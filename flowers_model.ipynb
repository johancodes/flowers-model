{
  "cells": [
    {
      "cell_type": "markdown",
      "metadata": {
        "id": "lhn4gC7nldJ0"
      },
      "source": [
        "MULTICLASS CLASSIFICATION MODEL"
      ]
    },
    {
      "cell_type": "markdown",
      "metadata": {
        "id": "AZFRi-XfbIJD"
      },
      "source": [
        "The flowers dataset is well studied and is a good problem for practicing on neural networks because all of the 4 input variables are numeric and have the same scale in centimeters. Each instance describes the properties of an observed flower measurements and the output variable is specific iris species.\n",
        "\n",
        "This is a multi-class classification problem, meaning that there are more than two classes to be predicted, in fact there are three flower species. This is an important type of problem on which to practice with neural networks because the three class values require specialized handling.\n",
        "\n",
        "The iris flower dataset is a well-studied problem and a such we can expect to achieve a model accuracy in the range of 95% to 97%. This provides a good target to aim for when developing our models.\n",
        "\n",
        "Yada yada!"
      ]
    },
    {
      "cell_type": "code",
      "execution_count": 1,
      "metadata": {
        "id": "-C3pMOsoS3nF"
      },
      "outputs": [],
      "source": [
        "# import libraries\n",
        "\n",
        "import tensorflow as tf\n",
        "from tensorflow import keras\n",
        "import pandas as pd\n",
        "import numpy as np\n",
        "import matplotlib.pyplot as plt\n",
        "from sklearn.preprocessing import MinMaxScaler, LabelEncoder, OneHotEncoder\n",
        "from sklearn.model_selection import train_test_split"
      ]
    },
    {
      "cell_type": "code",
      "execution_count": 2,
      "metadata": {
        "id": "ALmsf6B5T3vI"
      },
      "outputs": [],
      "source": [
        "# import dataframe\n",
        "# add header names as the orig csv does not have them and uses the 1st row as header row(!)\n",
        "\n",
        "df = pd.read_csv('https://raw.githubusercontent.com/jbrownlee/Datasets/master/iris.csv',\n",
        "                         names=['X1', 'X2', 'X3', 'X4', 'Name'])"
      ]
    },
    {
      "cell_type": "code",
      "execution_count": 3,
      "metadata": {
        "colab": {
          "base_uri": "https://localhost:8080/",
          "height": 424
        },
        "id": "C9wDnCQaU4ma",
        "outputId": "2162870e-ec65-4076-f9a0-a890dae3dac5"
      },
      "outputs": [
        {
          "data": {
            "text/html": [
              "<div>\n",
              "<style scoped>\n",
              "    .dataframe tbody tr th:only-of-type {\n",
              "        vertical-align: middle;\n",
              "    }\n",
              "\n",
              "    .dataframe tbody tr th {\n",
              "        vertical-align: top;\n",
              "    }\n",
              "\n",
              "    .dataframe thead th {\n",
              "        text-align: right;\n",
              "    }\n",
              "</style>\n",
              "<table border=\"1\" class=\"dataframe\">\n",
              "  <thead>\n",
              "    <tr style=\"text-align: right;\">\n",
              "      <th></th>\n",
              "      <th>X1</th>\n",
              "      <th>X2</th>\n",
              "      <th>X3</th>\n",
              "      <th>X4</th>\n",
              "      <th>Name</th>\n",
              "    </tr>\n",
              "  </thead>\n",
              "  <tbody>\n",
              "    <tr>\n",
              "      <th>0</th>\n",
              "      <td>5.1</td>\n",
              "      <td>3.5</td>\n",
              "      <td>1.4</td>\n",
              "      <td>0.2</td>\n",
              "      <td>Iris-setosa</td>\n",
              "    </tr>\n",
              "    <tr>\n",
              "      <th>1</th>\n",
              "      <td>4.9</td>\n",
              "      <td>3.0</td>\n",
              "      <td>1.4</td>\n",
              "      <td>0.2</td>\n",
              "      <td>Iris-setosa</td>\n",
              "    </tr>\n",
              "    <tr>\n",
              "      <th>2</th>\n",
              "      <td>4.7</td>\n",
              "      <td>3.2</td>\n",
              "      <td>1.3</td>\n",
              "      <td>0.2</td>\n",
              "      <td>Iris-setosa</td>\n",
              "    </tr>\n",
              "    <tr>\n",
              "      <th>3</th>\n",
              "      <td>4.6</td>\n",
              "      <td>3.1</td>\n",
              "      <td>1.5</td>\n",
              "      <td>0.2</td>\n",
              "      <td>Iris-setosa</td>\n",
              "    </tr>\n",
              "    <tr>\n",
              "      <th>4</th>\n",
              "      <td>5.0</td>\n",
              "      <td>3.6</td>\n",
              "      <td>1.4</td>\n",
              "      <td>0.2</td>\n",
              "      <td>Iris-setosa</td>\n",
              "    </tr>\n",
              "    <tr>\n",
              "      <th>...</th>\n",
              "      <td>...</td>\n",
              "      <td>...</td>\n",
              "      <td>...</td>\n",
              "      <td>...</td>\n",
              "      <td>...</td>\n",
              "    </tr>\n",
              "    <tr>\n",
              "      <th>145</th>\n",
              "      <td>6.7</td>\n",
              "      <td>3.0</td>\n",
              "      <td>5.2</td>\n",
              "      <td>2.3</td>\n",
              "      <td>Iris-virginica</td>\n",
              "    </tr>\n",
              "    <tr>\n",
              "      <th>146</th>\n",
              "      <td>6.3</td>\n",
              "      <td>2.5</td>\n",
              "      <td>5.0</td>\n",
              "      <td>1.9</td>\n",
              "      <td>Iris-virginica</td>\n",
              "    </tr>\n",
              "    <tr>\n",
              "      <th>147</th>\n",
              "      <td>6.5</td>\n",
              "      <td>3.0</td>\n",
              "      <td>5.2</td>\n",
              "      <td>2.0</td>\n",
              "      <td>Iris-virginica</td>\n",
              "    </tr>\n",
              "    <tr>\n",
              "      <th>148</th>\n",
              "      <td>6.2</td>\n",
              "      <td>3.4</td>\n",
              "      <td>5.4</td>\n",
              "      <td>2.3</td>\n",
              "      <td>Iris-virginica</td>\n",
              "    </tr>\n",
              "    <tr>\n",
              "      <th>149</th>\n",
              "      <td>5.9</td>\n",
              "      <td>3.0</td>\n",
              "      <td>5.1</td>\n",
              "      <td>1.8</td>\n",
              "      <td>Iris-virginica</td>\n",
              "    </tr>\n",
              "  </tbody>\n",
              "</table>\n",
              "<p>150 rows × 5 columns</p>\n",
              "</div>"
            ],
            "text/plain": [
              "      X1   X2   X3   X4            Name\n",
              "0    5.1  3.5  1.4  0.2     Iris-setosa\n",
              "1    4.9  3.0  1.4  0.2     Iris-setosa\n",
              "2    4.7  3.2  1.3  0.2     Iris-setosa\n",
              "3    4.6  3.1  1.5  0.2     Iris-setosa\n",
              "4    5.0  3.6  1.4  0.2     Iris-setosa\n",
              "..   ...  ...  ...  ...             ...\n",
              "145  6.7  3.0  5.2  2.3  Iris-virginica\n",
              "146  6.3  2.5  5.0  1.9  Iris-virginica\n",
              "147  6.5  3.0  5.2  2.0  Iris-virginica\n",
              "148  6.2  3.4  5.4  2.3  Iris-virginica\n",
              "149  5.9  3.0  5.1  1.8  Iris-virginica\n",
              "\n",
              "[150 rows x 5 columns]"
            ]
          },
          "execution_count": 3,
          "metadata": {},
          "output_type": "execute_result"
        }
      ],
      "source": [
        "df\n"
      ]
    },
    {
      "cell_type": "code",
      "execution_count": 4,
      "metadata": {
        "colab": {
          "base_uri": "https://localhost:8080/",
          "height": 81
        },
        "id": "Rm3oIl0sU6JT",
        "outputId": "767de6fb-8747-48bf-8dd8-57f9ed248bf8"
      },
      "outputs": [
        {
          "data": {
            "text/html": [
              "<div>\n",
              "<style scoped>\n",
              "    .dataframe tbody tr th:only-of-type {\n",
              "        vertical-align: middle;\n",
              "    }\n",
              "\n",
              "    .dataframe tbody tr th {\n",
              "        vertical-align: top;\n",
              "    }\n",
              "\n",
              "    .dataframe thead th {\n",
              "        text-align: right;\n",
              "    }\n",
              "</style>\n",
              "<table border=\"1\" class=\"dataframe\">\n",
              "  <thead>\n",
              "    <tr style=\"text-align: right;\">\n",
              "      <th></th>\n",
              "      <th>X1</th>\n",
              "      <th>X2</th>\n",
              "      <th>X3</th>\n",
              "      <th>X4</th>\n",
              "      <th>Name</th>\n",
              "    </tr>\n",
              "  </thead>\n",
              "  <tbody>\n",
              "    <tr>\n",
              "      <th>0</th>\n",
              "      <td>5.1</td>\n",
              "      <td>3.5</td>\n",
              "      <td>1.4</td>\n",
              "      <td>0.2</td>\n",
              "      <td>Iris-setosa</td>\n",
              "    </tr>\n",
              "  </tbody>\n",
              "</table>\n",
              "</div>"
            ],
            "text/plain": [
              "    X1   X2   X3   X4         Name\n",
              "0  5.1  3.5  1.4  0.2  Iris-setosa"
            ]
          },
          "execution_count": 4,
          "metadata": {},
          "output_type": "execute_result"
        }
      ],
      "source": [
        "df.iloc[:1, :]"
      ]
    },
    {
      "cell_type": "code",
      "execution_count": 5,
      "metadata": {
        "colab": {
          "base_uri": "https://localhost:8080/"
        },
        "id": "E5zqqvojU8fh",
        "outputId": "8617007b-af09-4567-f78e-c140677fe630"
      },
      "outputs": [
        {
          "name": "stdout",
          "output_type": "stream",
          "text": [
            "7.9 4.4 6.9 2.5\n",
            "4.3 2.0 1.0 0.1\n"
          ]
        }
      ],
      "source": [
        "print(df['X1'].max(), df['X2'].max(),df['X3'].max(),df['X4'].max())\n",
        "\n",
        "print(df['X1'].min(), df['X2'].min(),df['X3'].min(),df['X4'].min())\n",
        "\n",
        "# they're already in numbers, let's feature scale them using normalisation (vals from 0 to 1)"
      ]
    },
    {
      "cell_type": "code",
      "execution_count": 6,
      "metadata": {
        "colab": {
          "base_uri": "https://localhost:8080/"
        },
        "id": "gQ2PhB3_aaqX",
        "outputId": "0acf6f23-8e47-41e3-c7ed-b550952cf7d3"
      },
      "outputs": [
        {
          "data": {
            "text/plain": [
              "Iris-setosa        50\n",
              "Iris-versicolor    50\n",
              "Iris-virginica     50\n",
              "Name: Name, dtype: int64"
            ]
          },
          "execution_count": 6,
          "metadata": {},
          "output_type": "execute_result"
        }
      ],
      "source": [
        "df['Name'].value_counts()\n",
        "\n",
        "# equal samples per class name, no class imbalance"
      ]
    },
    {
      "cell_type": "code",
      "execution_count": 7,
      "metadata": {
        "id": "rxRzCEdxaxcK"
      },
      "outputs": [],
      "source": [
        "# normalise X vars\n",
        "\n",
        "mms = MinMaxScaler()\n",
        "\n",
        "df.iloc[:, :4] = mms.fit_transform(df.iloc[:, :4])"
      ]
    },
    {
      "cell_type": "code",
      "execution_count": 8,
      "metadata": {
        "colab": {
          "base_uri": "https://localhost:8080/",
          "height": 424
        },
        "id": "ZDSDnsPdch5r",
        "outputId": "f2252467-0920-4698-ef8e-a7648f2ac898"
      },
      "outputs": [
        {
          "data": {
            "text/html": [
              "<div>\n",
              "<style scoped>\n",
              "    .dataframe tbody tr th:only-of-type {\n",
              "        vertical-align: middle;\n",
              "    }\n",
              "\n",
              "    .dataframe tbody tr th {\n",
              "        vertical-align: top;\n",
              "    }\n",
              "\n",
              "    .dataframe thead th {\n",
              "        text-align: right;\n",
              "    }\n",
              "</style>\n",
              "<table border=\"1\" class=\"dataframe\">\n",
              "  <thead>\n",
              "    <tr style=\"text-align: right;\">\n",
              "      <th></th>\n",
              "      <th>X1</th>\n",
              "      <th>X2</th>\n",
              "      <th>X3</th>\n",
              "      <th>X4</th>\n",
              "      <th>Name</th>\n",
              "    </tr>\n",
              "  </thead>\n",
              "  <tbody>\n",
              "    <tr>\n",
              "      <th>0</th>\n",
              "      <td>0.222222</td>\n",
              "      <td>0.625000</td>\n",
              "      <td>0.067797</td>\n",
              "      <td>0.041667</td>\n",
              "      <td>Iris-setosa</td>\n",
              "    </tr>\n",
              "    <tr>\n",
              "      <th>1</th>\n",
              "      <td>0.166667</td>\n",
              "      <td>0.416667</td>\n",
              "      <td>0.067797</td>\n",
              "      <td>0.041667</td>\n",
              "      <td>Iris-setosa</td>\n",
              "    </tr>\n",
              "    <tr>\n",
              "      <th>2</th>\n",
              "      <td>0.111111</td>\n",
              "      <td>0.500000</td>\n",
              "      <td>0.050847</td>\n",
              "      <td>0.041667</td>\n",
              "      <td>Iris-setosa</td>\n",
              "    </tr>\n",
              "    <tr>\n",
              "      <th>3</th>\n",
              "      <td>0.083333</td>\n",
              "      <td>0.458333</td>\n",
              "      <td>0.084746</td>\n",
              "      <td>0.041667</td>\n",
              "      <td>Iris-setosa</td>\n",
              "    </tr>\n",
              "    <tr>\n",
              "      <th>4</th>\n",
              "      <td>0.194444</td>\n",
              "      <td>0.666667</td>\n",
              "      <td>0.067797</td>\n",
              "      <td>0.041667</td>\n",
              "      <td>Iris-setosa</td>\n",
              "    </tr>\n",
              "    <tr>\n",
              "      <th>...</th>\n",
              "      <td>...</td>\n",
              "      <td>...</td>\n",
              "      <td>...</td>\n",
              "      <td>...</td>\n",
              "      <td>...</td>\n",
              "    </tr>\n",
              "    <tr>\n",
              "      <th>145</th>\n",
              "      <td>0.666667</td>\n",
              "      <td>0.416667</td>\n",
              "      <td>0.711864</td>\n",
              "      <td>0.916667</td>\n",
              "      <td>Iris-virginica</td>\n",
              "    </tr>\n",
              "    <tr>\n",
              "      <th>146</th>\n",
              "      <td>0.555556</td>\n",
              "      <td>0.208333</td>\n",
              "      <td>0.677966</td>\n",
              "      <td>0.750000</td>\n",
              "      <td>Iris-virginica</td>\n",
              "    </tr>\n",
              "    <tr>\n",
              "      <th>147</th>\n",
              "      <td>0.611111</td>\n",
              "      <td>0.416667</td>\n",
              "      <td>0.711864</td>\n",
              "      <td>0.791667</td>\n",
              "      <td>Iris-virginica</td>\n",
              "    </tr>\n",
              "    <tr>\n",
              "      <th>148</th>\n",
              "      <td>0.527778</td>\n",
              "      <td>0.583333</td>\n",
              "      <td>0.745763</td>\n",
              "      <td>0.916667</td>\n",
              "      <td>Iris-virginica</td>\n",
              "    </tr>\n",
              "    <tr>\n",
              "      <th>149</th>\n",
              "      <td>0.444444</td>\n",
              "      <td>0.416667</td>\n",
              "      <td>0.694915</td>\n",
              "      <td>0.708333</td>\n",
              "      <td>Iris-virginica</td>\n",
              "    </tr>\n",
              "  </tbody>\n",
              "</table>\n",
              "<p>150 rows × 5 columns</p>\n",
              "</div>"
            ],
            "text/plain": [
              "           X1        X2        X3        X4            Name\n",
              "0    0.222222  0.625000  0.067797  0.041667     Iris-setosa\n",
              "1    0.166667  0.416667  0.067797  0.041667     Iris-setosa\n",
              "2    0.111111  0.500000  0.050847  0.041667     Iris-setosa\n",
              "3    0.083333  0.458333  0.084746  0.041667     Iris-setosa\n",
              "4    0.194444  0.666667  0.067797  0.041667     Iris-setosa\n",
              "..        ...       ...       ...       ...             ...\n",
              "145  0.666667  0.416667  0.711864  0.916667  Iris-virginica\n",
              "146  0.555556  0.208333  0.677966  0.750000  Iris-virginica\n",
              "147  0.611111  0.416667  0.711864  0.791667  Iris-virginica\n",
              "148  0.527778  0.583333  0.745763  0.916667  Iris-virginica\n",
              "149  0.444444  0.416667  0.694915  0.708333  Iris-virginica\n",
              "\n",
              "[150 rows x 5 columns]"
            ]
          },
          "execution_count": 8,
          "metadata": {},
          "output_type": "execute_result"
        }
      ],
      "source": [
        "df"
      ]
    },
    {
      "cell_type": "code",
      "execution_count": 9,
      "metadata": {
        "colab": {
          "base_uri": "https://localhost:8080/"
        },
        "id": "sXKAhtPqcjtr",
        "outputId": "2eeda760-43fa-43be-f950-b591d6a966bf"
      },
      "outputs": [
        {
          "name": "stdout",
          "output_type": "stream",
          "text": [
            "1.0 1.0 1.0 1.0\n",
            "0.0 0.0 0.0 0.0\n"
          ]
        }
      ],
      "source": [
        "print(df['X1'].max(), df['X2'].max(),df['X3'].max(),df['X4'].max())\n",
        "\n",
        "print(df['X1'].min(), df['X2'].min(),df['X3'].min(),df['X4'].min())"
      ]
    },
    {
      "cell_type": "code",
      "execution_count": 10,
      "metadata": {
        "id": "uNfjfJoVmeYh"
      },
      "outputs": [],
      "source": [
        "# define X and y\n",
        "\n",
        "X = df.iloc[:, :4]\n",
        "\n",
        "y = df[['Name']]"
      ]
    },
    {
      "cell_type": "code",
      "execution_count": 11,
      "metadata": {
        "colab": {
          "base_uri": "https://localhost:8080/",
          "height": 53
        },
        "id": "5v5H-Qhocm4p",
        "outputId": "4bf48708-5982-4db1-fb80-719f6094ad67"
      },
      "outputs": [
        {
          "data": {
            "text/plain": [
              "\"\\nohe = OneHotEncoder(sparse=False)\\n\\ny = df[['breast-quad']] # add double square brackets or we'll get a shape error\\n\\ny = ohe.fit_transform(y)\""
            ]
          },
          "execution_count": 11,
          "metadata": {},
          "output_type": "execute_result"
        }
      ],
      "source": [
        "'''# label encode the target variable\n",
        "\n",
        "le = LabelEncoder()\n",
        "\n",
        "df.iloc[:, -1] = le.fit_transform(df.iloc[:, -1])\n",
        "'''\n",
        "# label encode the target variable\n",
        "\n",
        "ohe = OneHotEncoder(sparse=False)\n",
        "\n",
        "y = ohe.fit_transform(y)\n",
        "\n",
        "'''\n",
        "ohe = OneHotEncoder(sparse=False)\n",
        "\n",
        "y = df[['breast-quad']] # add double square brackets or we'll get a shape error\n",
        "\n",
        "y = ohe.fit_transform(y)'''\n"
      ]
    },
    {
      "cell_type": "code",
      "execution_count": 12,
      "metadata": {
        "colab": {
          "base_uri": "https://localhost:8080/"
        },
        "id": "qJ9XvCG7l6xi",
        "outputId": "dc8c8ceb-6c53-4801-a914-aca242d71e5b"
      },
      "outputs": [
        {
          "name": "stdout",
          "output_type": "stream",
          "text": [
            "(120, 4) (120, 3) (30, 4) (30, 3)\n",
            "(15, 4) (15, 3) (15, 4) (15, 3)\n",
            "X_train:            X1        X2        X3        X4\n",
            "17   0.222222  0.625000  0.067797  0.083333\n",
            "81   0.333333  0.166667  0.457627  0.375000\n",
            "103  0.555556  0.375000  0.779661  0.708333\n",
            "33   0.333333  0.916667  0.067797  0.041667\n",
            "101  0.416667  0.291667  0.694915  0.750000\n",
            "..        ...       ...       ...       ...\n",
            "76   0.694444  0.333333  0.644068  0.541667\n",
            "3    0.083333  0.458333  0.084746  0.041667\n",
            "130  0.861111  0.333333  0.864407  0.750000\n",
            "134  0.500000  0.250000  0.779661  0.541667\n",
            "75   0.638889  0.416667  0.576271  0.541667\n",
            "\n",
            "[120 rows x 4 columns]\n",
            "y_train: [[1. 0. 0.]\n",
            " [0. 1. 0.]\n",
            " [0. 0. 1.]\n",
            " [1. 0. 0.]\n",
            " [0. 0. 1.]\n",
            " [1. 0. 0.]\n",
            " [0. 1. 0.]\n",
            " [0. 1. 0.]\n",
            " [1. 0. 0.]\n",
            " [0. 1. 0.]\n",
            " [0. 1. 0.]\n",
            " [1. 0. 0.]\n",
            " [1. 0. 0.]\n",
            " [1. 0. 0.]\n",
            " [1. 0. 0.]\n",
            " [1. 0. 0.]\n",
            " [1. 0. 0.]\n",
            " [1. 0. 0.]\n",
            " [0. 0. 1.]\n",
            " [1. 0. 0.]\n",
            " [0. 0. 1.]\n",
            " [0. 1. 0.]\n",
            " [0. 1. 0.]\n",
            " [0. 1. 0.]\n",
            " [1. 0. 0.]\n",
            " [0. 0. 1.]\n",
            " [0. 1. 0.]\n",
            " [0. 1. 0.]\n",
            " [0. 0. 1.]\n",
            " [1. 0. 0.]\n",
            " [0. 0. 1.]\n",
            " [1. 0. 0.]\n",
            " [0. 0. 1.]\n",
            " [0. 0. 1.]\n",
            " [0. 0. 1.]\n",
            " [0. 0. 1.]\n",
            " [0. 1. 0.]\n",
            " [0. 1. 0.]\n",
            " [0. 1. 0.]\n",
            " [0. 1. 0.]\n",
            " [0. 0. 1.]\n",
            " [1. 0. 0.]\n",
            " [0. 0. 1.]\n",
            " [0. 0. 1.]\n",
            " [1. 0. 0.]\n",
            " [0. 1. 0.]\n",
            " [1. 0. 0.]\n",
            " [0. 0. 1.]\n",
            " [0. 0. 1.]\n",
            " [1. 0. 0.]\n",
            " [0. 1. 0.]\n",
            " [0. 1. 0.]\n",
            " [1. 0. 0.]\n",
            " [1. 0. 0.]\n",
            " [0. 1. 0.]\n",
            " [0. 1. 0.]\n",
            " [0. 1. 0.]\n",
            " [0. 1. 0.]\n",
            " [0. 0. 1.]\n",
            " [0. 1. 0.]\n",
            " [0. 0. 1.]\n",
            " [1. 0. 0.]\n",
            " [1. 0. 0.]\n",
            " [0. 1. 0.]\n",
            " [0. 1. 0.]\n",
            " [0. 1. 0.]\n",
            " [1. 0. 0.]\n",
            " [0. 0. 1.]\n",
            " [0. 1. 0.]\n",
            " [1. 0. 0.]\n",
            " [0. 0. 1.]\n",
            " [0. 0. 1.]\n",
            " [0. 1. 0.]\n",
            " [0. 0. 1.]\n",
            " [0. 0. 1.]\n",
            " [1. 0. 0.]\n",
            " [1. 0. 0.]\n",
            " [0. 0. 1.]\n",
            " [0. 1. 0.]\n",
            " [0. 1. 0.]\n",
            " [0. 0. 1.]\n",
            " [1. 0. 0.]\n",
            " [0. 1. 0.]\n",
            " [0. 1. 0.]\n",
            " [1. 0. 0.]\n",
            " [0. 1. 0.]\n",
            " [0. 1. 0.]\n",
            " [0. 0. 1.]\n",
            " [0. 0. 1.]\n",
            " [0. 1. 0.]\n",
            " [1. 0. 0.]\n",
            " [0. 0. 1.]\n",
            " [1. 0. 0.]\n",
            " [0. 0. 1.]\n",
            " [1. 0. 0.]\n",
            " [1. 0. 0.]\n",
            " [0. 1. 0.]\n",
            " [0. 0. 1.]\n",
            " [0. 0. 1.]\n",
            " [0. 1. 0.]\n",
            " [0. 0. 1.]\n",
            " [0. 0. 1.]\n",
            " [1. 0. 0.]\n",
            " [0. 1. 0.]\n",
            " [0. 1. 0.]\n",
            " [1. 0. 0.]\n",
            " [0. 0. 1.]\n",
            " [0. 0. 1.]\n",
            " [0. 0. 1.]\n",
            " [0. 1. 0.]\n",
            " [0. 0. 1.]\n",
            " [0. 0. 1.]\n",
            " [0. 0. 1.]\n",
            " [1. 0. 0.]\n",
            " [1. 0. 0.]\n",
            " [0. 1. 0.]\n",
            " [1. 0. 0.]\n",
            " [0. 0. 1.]\n",
            " [0. 0. 1.]\n",
            " [0. 1. 0.]]\n",
            "X_val:            X1        X2        X3        X4\n",
            "126  0.527778  0.333333  0.644068  0.708333\n",
            "146  0.555556  0.208333  0.677966  0.750000\n",
            "38   0.027778  0.416667  0.050847  0.041667\n",
            "145  0.666667  0.416667  0.711864  0.916667\n",
            "99   0.388889  0.333333  0.525424  0.500000\n",
            "71   0.500000  0.333333  0.508475  0.500000\n",
            "77   0.666667  0.416667  0.677966  0.666667\n",
            "6    0.083333  0.583333  0.067797  0.083333\n",
            "41   0.055556  0.125000  0.050847  0.083333\n",
            "1    0.166667  0.416667  0.067797  0.041667\n",
            "39   0.222222  0.583333  0.084746  0.041667\n",
            "66   0.361111  0.416667  0.593220  0.583333\n",
            "50   0.750000  0.500000  0.627119  0.541667\n",
            "72   0.555556  0.208333  0.661017  0.583333\n",
            "148  0.527778  0.583333  0.745763  0.916667\n",
            "y_val: [[0. 0. 1.]\n",
            " [0. 0. 1.]\n",
            " [1. 0. 0.]\n",
            " [0. 0. 1.]\n",
            " [0. 1. 0.]\n",
            " [0. 1. 0.]\n",
            " [0. 1. 0.]\n",
            " [1. 0. 0.]\n",
            " [1. 0. 0.]\n",
            " [1. 0. 0.]\n",
            " [1. 0. 0.]\n",
            " [0. 1. 0.]\n",
            " [0. 1. 0.]\n",
            " [0. 1. 0.]\n",
            " [0. 0. 1.]]\n",
            "X_test:            X1        X2        X3        X4\n",
            "90   0.333333  0.250000  0.576271  0.458333\n",
            "125  0.805556  0.500000  0.847458  0.708333\n",
            "78   0.472222  0.375000  0.593220  0.583333\n",
            "61   0.444444  0.416667  0.542373  0.583333\n",
            "135  0.944444  0.416667  0.864407  0.916667\n",
            "23   0.222222  0.541667  0.118644  0.166667\n",
            "11   0.138889  0.583333  0.101695  0.041667\n",
            "24   0.138889  0.583333  0.152542  0.041667\n",
            "31   0.305556  0.583333  0.084746  0.125000\n",
            "40   0.194444  0.625000  0.050847  0.083333\n",
            "143  0.694444  0.500000  0.830508  0.916667\n",
            "108  0.666667  0.208333  0.813559  0.708333\n",
            "116  0.611111  0.416667  0.762712  0.708333\n",
            "21   0.222222  0.708333  0.084746  0.125000\n",
            "16   0.305556  0.791667  0.050847  0.125000\n",
            "y_test: [[0. 1. 0.]\n",
            " [0. 0. 1.]\n",
            " [0. 1. 0.]\n",
            " [0. 1. 0.]\n",
            " [0. 0. 1.]\n",
            " [1. 0. 0.]\n",
            " [1. 0. 0.]\n",
            " [1. 0. 0.]\n",
            " [1. 0. 0.]\n",
            " [1. 0. 0.]\n",
            " [0. 0. 1.]\n",
            " [0. 0. 1.]\n",
            " [0. 0. 1.]\n",
            " [1. 0. 0.]\n",
            " [1. 0. 0.]]\n"
          ]
        }
      ],
      "source": [
        "\n",
        "\n",
        "# define training, validation and test sets\n",
        "\n",
        "# get training, validation and test datasets (80:10:10 ratio)\n",
        "\n",
        "X_train, X_val, y_train, y_val = train_test_split(X, y, test_size=0.2, random_state=12) # NB random_state=12\n",
        " \n",
        "print(X_train.shape, y_train.shape, X_val.shape, y_val.shape)\n",
        "\n",
        " \n",
        "X_val, X_test, y_val, y_test = train_test_split(X_val, y_val, test_size=0.5, random_state=42) # NB random_state=42\n",
        " \n",
        "print(X_val.shape, y_val.shape, X_test.shape, y_test.shape)\n",
        "\n",
        "\n",
        "print('X_train: ' + str(X_train))\n",
        " \n",
        "print('y_train: ' + str(y_train))\n",
        " \n",
        "print('X_val: ' + str(X_val))\n",
        " \n",
        "print('y_val: ' + str(y_val))\n",
        " \n",
        "print('X_test: ' + str(X_test))\n",
        " \n",
        "print('y_test: ' + str(y_test))\n",
        "\n"
      ]
    },
    {
      "cell_type": "code",
      "execution_count": 13,
      "metadata": {
        "colab": {
          "base_uri": "https://localhost:8080/"
        },
        "id": "Hn7kcAUdkLdh",
        "outputId": "cccf1730-b434-4e96-88d9-bb453d567188"
      },
      "outputs": [
        {
          "name": "stdout",
          "output_type": "stream",
          "text": [
            "Metal device set to: Apple M1 Pro\n",
            "\n",
            "systemMemory: 16.00 GB\n",
            "maxCacheSize: 5.33 GB\n",
            "\n",
            "Epoch 1/6\n"
          ]
        },
        {
          "name": "stderr",
          "output_type": "stream",
          "text": [
            "2022-02-08 17:04:40.426707: I tensorflow/core/common_runtime/pluggable_device/pluggable_device_factory.cc:305] Could not identify NUMA node of platform GPU ID 0, defaulting to 0. Your kernel may not have been built with NUMA support.\n",
            "2022-02-08 17:04:40.427052: I tensorflow/core/common_runtime/pluggable_device/pluggable_device_factory.cc:271] Created TensorFlow device (/job:localhost/replica:0/task:0/device:GPU:0 with 0 MB memory) -> physical PluggableDevice (device: 0, name: METAL, pci bus id: <undefined>)\n",
            "2022-02-08 17:04:40.488509: W tensorflow/core/platform/profile_utils/cpu_utils.cc:128] Failed to get CPU frequency: 0 Hz\n",
            "2022-02-08 17:04:40.710709: I tensorflow/core/grappler/optimizers/custom_graph_optimizer_registry.cc:112] Plugin optimizer for device_type GPU is enabled.\n"
          ]
        },
        {
          "name": "stdout",
          "output_type": "stream",
          "text": [
            "4/4 - 1s - loss: 1.0595 - accuracy: 0.6583 - val_loss: 1.0578 - val_accuracy: 0.7333 - 1s/epoch - 279ms/step\n",
            "Epoch 2/6\n",
            "4/4 - 0s - loss: 1.0566 - accuracy: 0.6583 - val_loss: 1.0548 - val_accuracy: 0.7333 - 45ms/epoch - 11ms/step\n",
            "Epoch 3/6\n",
            "4/4 - 0s - loss: 1.0537 - accuracy: 0.6583 - val_loss: 1.0517 - val_accuracy: 0.7333 - 54ms/epoch - 14ms/step\n",
            "Epoch 4/6\n",
            "4/4 - 0s - loss: 1.0509 - accuracy: 0.6583 - val_loss: 1.0489 - val_accuracy: 0.7333 - 50ms/epoch - 12ms/step\n"
          ]
        },
        {
          "name": "stderr",
          "output_type": "stream",
          "text": [
            "2022-02-08 17:04:41.589330: I tensorflow/core/grappler/optimizers/custom_graph_optimizer_registry.cc:112] Plugin optimizer for device_type GPU is enabled.\n"
          ]
        },
        {
          "name": "stdout",
          "output_type": "stream",
          "text": [
            "Epoch 5/6\n",
            "4/4 - 0s - loss: 1.0480 - accuracy: 0.6583 - val_loss: 1.0461 - val_accuracy: 0.6667 - 52ms/epoch - 13ms/step\n",
            "Epoch 6/6\n",
            "4/4 - 0s - loss: 1.0450 - accuracy: 0.6583 - val_loss: 1.0432 - val_accuracy: 0.6667 - 51ms/epoch - 13ms/step\n"
          ]
        }
      ],
      "source": [
        "# create model\n",
        "\n",
        "tf.random.set_seed(42)\n",
        "\n",
        "\n",
        "model_1 = keras.Sequential([                     \n",
        "  keras.layers.Dense(4, activation='relu'),\n",
        "  keras.layers.Dense(3, activation='softmax')\n",
        "])\n",
        "\n",
        "\n",
        "model_1.compile(loss='categorical_crossentropy', optimizer=keras.optimizers.Adam(learning_rate=0.001), metrics='accuracy')\n",
        "\n",
        "\n",
        "history_model_1 = model_1.fit(\n",
        "    X_train,\n",
        "    y_train,\n",
        "    validation_data=(X_val, y_val),\n",
        "    epochs=6,\n",
        "    verbose=2\n",
        ")"
      ]
    },
    {
      "cell_type": "code",
      "execution_count": 14,
      "metadata": {
        "colab": {
          "base_uri": "https://localhost:8080/",
          "height": 461
        },
        "id": "G_SKbMgTnNo2",
        "outputId": "c2baa916-6538-492d-81cd-05d20e213220"
      },
      "outputs": [
        {
          "data": {
            "text/plain": [
              "Text(0.5, 0, 'epochs')"
            ]
          },
          "execution_count": 14,
          "metadata": {},
          "output_type": "execute_result"
        },
        {
          "data": {
            "image/png": "[encoded data removed]",
            "text/plain": [
              "<Figure size 720x504 with 1 Axes>"
            ]
          },
          "metadata": {
            "needs_background": "light"
          },
          "output_type": "display_data"
        }
      ],
      "source": [
        "# plot loss curve\n",
        "\n",
        "pd.DataFrame(history_model_1.history).plot(figsize=(10,7))\n",
        "plt.xlabel('epochs')\n"
      ]
    },
    {
      "cell_type": "code",
      "execution_count": 15,
      "metadata": {
        "colab": {
          "base_uri": "https://localhost:8080/"
        },
        "id": "-P02oESIoOiE",
        "outputId": "d5eddd3b-7fe5-41f9-adc0-177e36e95806"
      },
      "outputs": [
        {
          "name": "stdout",
          "output_type": "stream",
          "text": [
            "1/1 [==============================] - 0s 16ms/step - loss: 1.0541 - accuracy: 0.6667\n"
          ]
        },
        {
          "data": {
            "text/plain": [
              "[1.0540560483932495, 0.6666666865348816]"
            ]
          },
          "execution_count": 15,
          "metadata": {},
          "output_type": "execute_result"
        }
      ],
      "source": [
        "model_1.evaluate(X_test, y_test)\n"
      ]
    },
    {
      "cell_type": "code",
      "execution_count": 16,
      "metadata": {
        "colab": {
          "base_uri": "https://localhost:8080/"
        },
        "id": "_yZUBrFDo9-F",
        "outputId": "7fbafa7a-f129-41d5-f4e9-3d577cb05fca"
      },
      "outputs": [
        {
          "name": "stderr",
          "output_type": "stream",
          "text": [
            "2022-02-08 17:04:42.115604: I tensorflow/core/grappler/optimizers/custom_graph_optimizer_registry.cc:112] Plugin optimizer for device_type GPU is enabled.\n"
          ]
        },
        {
          "data": {
            "text/plain": [
              "(array([[0.27552643, 0.37201253, 0.352461  ],\n",
              "        [0.2644477 , 0.37983546, 0.35571688],\n",
              "        [0.28295967, 0.36682785, 0.3502125 ],\n",
              "        [0.29158723, 0.36087132, 0.34754142],\n",
              "        [0.25840825, 0.38415042, 0.3574413 ],\n",
              "        [0.33536848, 0.3315611 , 0.33307043],\n",
              "        [0.33536848, 0.3315611 , 0.33307043],\n",
              "        [0.33536848, 0.3315611 , 0.33307043],\n",
              "        [0.33536848, 0.3315611 , 0.33307043],\n",
              "        [0.33536848, 0.3315611 , 0.33307043],\n",
              "        [0.2639656 , 0.38017857, 0.3558559 ],\n",
              "        [0.24870276, 0.39116344, 0.3601338 ],\n",
              "        [0.26654   , 0.37834898, 0.355111  ],\n",
              "        [0.33536848, 0.3315611 , 0.33307043],\n",
              "        [0.33536848, 0.3315611 , 0.33307043]], dtype=float32),\n",
              " array([1, 1, 1, 1, 1, 0, 0, 0, 0, 0, 1, 1, 1, 0, 0]),\n",
              " array([1, 2, 1, 1, 2, 0, 0, 0, 0, 0, 2, 2, 2, 0, 0]),\n",
              " 15)"
            ]
          },
          "execution_count": 16,
          "metadata": {},
          "output_type": "execute_result"
        }
      ],
      "source": [
        "y_pred = model_1.predict(X_test)\n",
        "\n",
        "y_pred, y_pred.argmax(axis=-1), y_test.argmax(axis=-1), len(y_pred)\n",
        "\n",
        "# 13 of 15 correct, ie 87% accuracy\n",
        "# array([2, 2, 2, 2, 2, 0, 0, 0, 0, 0, 2, 2, 2, 0, 0]),\n",
        "# array([1, 2, 1, 1, 2, 0, 0, 0, 0, 0, 2, 2, 2, 0, 0]),\n"
      ]
    },
    {
      "cell_type": "code",
      "execution_count": 17,
      "metadata": {
        "colab": {
          "base_uri": "https://localhost:8080/"
        },
        "id": "aJflmiq4xu-S",
        "outputId": "89d1ffc7-1df4-4a5e-ed45-9dd978a39b34"
      },
      "outputs": [
        {
          "name": "stdout",
          "output_type": "stream",
          "text": [
            "Epoch 1/100\n"
          ]
        },
        {
          "name": "stderr",
          "output_type": "stream",
          "text": [
            "2022-02-08 17:04:42.382122: I tensorflow/core/grappler/optimizers/custom_graph_optimizer_registry.cc:112] Plugin optimizer for device_type GPU is enabled.\n"
          ]
        },
        {
          "name": "stdout",
          "output_type": "stream",
          "text": [
            "4/4 - 1s - loss: 1.0151 - accuracy: 0.5583 - val_loss: 0.9142 - val_accuracy: 0.5333 - 657ms/epoch - 164ms/step\n",
            "Epoch 2/100\n",
            "4/4 - 0s - loss: 0.7854 - accuracy: 0.6583 - val_loss: 0.7381 - val_accuracy: 0.6000 - 58ms/epoch - 15ms/step\n",
            "Epoch 3/100\n",
            "4/4 - 0s - loss: 0.5893 - accuracy: 0.6500 - val_loss: 0.5679 - val_accuracy: 0.6000 - 61ms/epoch - 15ms/step\n"
          ]
        },
        {
          "name": "stderr",
          "output_type": "stream",
          "text": [
            "2022-02-08 17:04:42.839118: I tensorflow/core/grappler/optimizers/custom_graph_optimizer_registry.cc:112] Plugin optimizer for device_type GPU is enabled.\n"
          ]
        },
        {
          "name": "stdout",
          "output_type": "stream",
          "text": [
            "Epoch 4/100\n",
            "4/4 - 0s - loss: 0.4779 - accuracy: 0.7333 - val_loss: 0.4436 - val_accuracy: 0.8667 - 56ms/epoch - 14ms/step\n",
            "Epoch 5/100\n",
            "4/4 - 0s - loss: 0.4050 - accuracy: 0.8667 - val_loss: 0.4192 - val_accuracy: 0.6667 - 55ms/epoch - 14ms/step\n",
            "Epoch 6/100\n",
            "4/4 - 0s - loss: 0.3505 - accuracy: 0.8333 - val_loss: 0.3006 - val_accuracy: 0.9333 - 55ms/epoch - 14ms/step\n",
            "Epoch 7/100\n",
            "4/4 - 0s - loss: 0.2768 - accuracy: 0.9250 - val_loss: 0.2531 - val_accuracy: 0.9333 - 54ms/epoch - 14ms/step\n",
            "Epoch 8/100\n",
            "4/4 - 0s - loss: 0.2699 - accuracy: 0.8750 - val_loss: 0.3116 - val_accuracy: 0.8667 - 55ms/epoch - 14ms/step\n",
            "Epoch 9/100\n",
            "4/4 - 0s - loss: 0.2258 - accuracy: 0.9250 - val_loss: 0.2034 - val_accuracy: 0.9333 - 52ms/epoch - 13ms/step\n",
            "Epoch 10/100\n",
            "4/4 - 0s - loss: 0.1896 - accuracy: 0.9250 - val_loss: 0.2698 - val_accuracy: 0.8667 - 53ms/epoch - 13ms/step\n",
            "Epoch 11/100\n",
            "4/4 - 0s - loss: 0.1787 - accuracy: 0.9333 - val_loss: 0.1803 - val_accuracy: 0.8667 - 52ms/epoch - 13ms/step\n",
            "Epoch 12/100\n",
            "4/4 - 0s - loss: 0.1388 - accuracy: 0.9583 - val_loss: 0.2833 - val_accuracy: 0.8667 - 53ms/epoch - 13ms/step\n",
            "Epoch 13/100\n",
            "4/4 - 0s - loss: 0.1282 - accuracy: 0.9417 - val_loss: 0.1680 - val_accuracy: 0.8667 - 52ms/epoch - 13ms/step\n",
            "Epoch 14/100\n",
            "4/4 - 0s - loss: 0.1153 - accuracy: 0.9333 - val_loss: 0.2069 - val_accuracy: 0.8667 - 55ms/epoch - 14ms/step\n",
            "Epoch 15/100\n",
            "4/4 - 0s - loss: 0.1018 - accuracy: 0.9417 - val_loss: 0.1335 - val_accuracy: 0.8667 - 58ms/epoch - 15ms/step\n",
            "Epoch 16/100\n",
            "4/4 - 0s - loss: 0.0873 - accuracy: 0.9583 - val_loss: 0.2834 - val_accuracy: 0.8667 - 59ms/epoch - 15ms/step\n",
            "Epoch 17/100\n",
            "4/4 - 0s - loss: 0.1085 - accuracy: 0.9500 - val_loss: 0.1350 - val_accuracy: 0.8667 - 59ms/epoch - 15ms/step\n",
            "Epoch 18/100\n",
            "4/4 - 0s - loss: 0.0767 - accuracy: 0.9833 - val_loss: 0.2193 - val_accuracy: 0.8667 - 58ms/epoch - 15ms/step\n",
            "Epoch 19/100\n",
            "4/4 - 0s - loss: 0.0855 - accuracy: 0.9583 - val_loss: 0.1831 - val_accuracy: 0.8667 - 54ms/epoch - 14ms/step\n",
            "Epoch 20/100\n",
            "4/4 - 0s - loss: 0.0721 - accuracy: 0.9667 - val_loss: 0.1692 - val_accuracy: 0.8667 - 55ms/epoch - 14ms/step\n",
            "Epoch 21/100\n",
            "4/4 - 0s - loss: 0.0668 - accuracy: 0.9583 - val_loss: 0.1527 - val_accuracy: 0.8667 - 55ms/epoch - 14ms/step\n",
            "Epoch 22/100\n",
            "4/4 - 0s - loss: 0.0665 - accuracy: 0.9750 - val_loss: 0.1820 - val_accuracy: 0.8667 - 53ms/epoch - 13ms/step\n",
            "Epoch 23/100\n",
            "4/4 - 0s - loss: 0.0745 - accuracy: 0.9667 - val_loss: 0.2402 - val_accuracy: 0.8667 - 52ms/epoch - 13ms/step\n",
            "Epoch 24/100\n",
            "4/4 - 0s - loss: 0.0770 - accuracy: 0.9750 - val_loss: 0.1862 - val_accuracy: 0.8667 - 52ms/epoch - 13ms/step\n",
            "Epoch 25/100\n",
            "4/4 - 0s - loss: 0.0694 - accuracy: 0.9667 - val_loss: 0.0961 - val_accuracy: 1.0000 - 53ms/epoch - 13ms/step\n",
            "Epoch 26/100\n",
            "4/4 - 0s - loss: 0.0596 - accuracy: 0.9750 - val_loss: 0.2071 - val_accuracy: 0.8667 - 54ms/epoch - 13ms/step\n",
            "Epoch 27/100\n",
            "4/4 - 0s - loss: 0.0577 - accuracy: 0.9750 - val_loss: 0.1033 - val_accuracy: 0.9333 - 56ms/epoch - 14ms/step\n",
            "Epoch 28/100\n",
            "4/4 - 0s - loss: 0.0643 - accuracy: 0.9667 - val_loss: 0.2495 - val_accuracy: 0.8667 - 60ms/epoch - 15ms/step\n",
            "Epoch 29/100\n",
            "4/4 - 0s - loss: 0.0588 - accuracy: 0.9750 - val_loss: 0.0848 - val_accuracy: 1.0000 - 62ms/epoch - 15ms/step\n",
            "Epoch 30/100\n",
            "4/4 - 0s - loss: 0.1015 - accuracy: 0.9583 - val_loss: 0.2627 - val_accuracy: 0.8667 - 62ms/epoch - 15ms/step\n",
            "Epoch 31/100\n",
            "4/4 - 0s - loss: 0.1159 - accuracy: 0.9500 - val_loss: 0.1146 - val_accuracy: 0.9333 - 60ms/epoch - 15ms/step\n",
            "Epoch 32/100\n",
            "4/4 - 0s - loss: 0.0913 - accuracy: 0.9500 - val_loss: 0.0959 - val_accuracy: 0.9333 - 59ms/epoch - 15ms/step\n",
            "Epoch 33/100\n",
            "4/4 - 0s - loss: 0.0729 - accuracy: 0.9750 - val_loss: 0.2449 - val_accuracy: 0.8667 - 59ms/epoch - 15ms/step\n",
            "Epoch 34/100\n",
            "4/4 - 0s - loss: 0.0696 - accuracy: 0.9750 - val_loss: 0.0680 - val_accuracy: 1.0000 - 59ms/epoch - 15ms/step\n",
            "Epoch 35/100\n",
            "4/4 - 0s - loss: 0.0789 - accuracy: 0.9583 - val_loss: 0.3330 - val_accuracy: 0.8667 - 59ms/epoch - 15ms/step\n",
            "Epoch 36/100\n",
            "4/4 - 0s - loss: 0.0831 - accuracy: 0.9750 - val_loss: 0.2216 - val_accuracy: 0.8667 - 60ms/epoch - 15ms/step\n",
            "Epoch 37/100\n",
            "4/4 - 0s - loss: 0.0526 - accuracy: 0.9750 - val_loss: 0.0860 - val_accuracy: 1.0000 - 56ms/epoch - 14ms/step\n",
            "Epoch 38/100\n",
            "4/4 - 0s - loss: 0.0453 - accuracy: 0.9917 - val_loss: 0.1754 - val_accuracy: 0.8667 - 54ms/epoch - 13ms/step\n",
            "Epoch 39/100\n",
            "4/4 - 0s - loss: 0.0535 - accuracy: 0.9750 - val_loss: 0.2368 - val_accuracy: 0.8667 - 55ms/epoch - 14ms/step\n",
            "Epoch 40/100\n",
            "4/4 - 0s - loss: 0.0471 - accuracy: 0.9833 - val_loss: 0.0655 - val_accuracy: 1.0000 - 55ms/epoch - 14ms/step\n",
            "Epoch 41/100\n",
            "4/4 - 0s - loss: 0.0529 - accuracy: 0.9667 - val_loss: 0.2246 - val_accuracy: 0.8667 - 53ms/epoch - 13ms/step\n",
            "Epoch 42/100\n",
            "4/4 - 0s - loss: 0.0547 - accuracy: 0.9833 - val_loss: 0.1759 - val_accuracy: 0.8667 - 53ms/epoch - 13ms/step\n",
            "Epoch 43/100\n",
            "4/4 - 0s - loss: 0.0430 - accuracy: 0.9833 - val_loss: 0.1083 - val_accuracy: 0.9333 - 52ms/epoch - 13ms/step\n",
            "Epoch 44/100\n",
            "4/4 - 0s - loss: 0.0501 - accuracy: 0.9833 - val_loss: 0.1560 - val_accuracy: 0.8667 - 52ms/epoch - 13ms/step\n",
            "Epoch 45/100\n",
            "4/4 - 0s - loss: 0.0509 - accuracy: 0.9833 - val_loss: 0.1599 - val_accuracy: 0.8667 - 53ms/epoch - 13ms/step\n",
            "Epoch 46/100\n",
            "4/4 - 0s - loss: 0.0396 - accuracy: 0.9917 - val_loss: 0.1786 - val_accuracy: 0.8667 - 52ms/epoch - 13ms/step\n",
            "Epoch 47/100\n",
            "4/4 - 0s - loss: 0.0399 - accuracy: 0.9833 - val_loss: 0.1718 - val_accuracy: 0.8667 - 55ms/epoch - 14ms/step\n",
            "Epoch 48/100\n",
            "4/4 - 0s - loss: 0.0426 - accuracy: 0.9917 - val_loss: 0.1244 - val_accuracy: 0.8667 - 57ms/epoch - 14ms/step\n",
            "Epoch 49/100\n",
            "4/4 - 0s - loss: 0.0548 - accuracy: 0.9750 - val_loss: 0.2169 - val_accuracy: 0.8667 - 60ms/epoch - 15ms/step\n",
            "Epoch 50/100\n",
            "4/4 - 0s - loss: 0.0370 - accuracy: 0.9917 - val_loss: 0.1289 - val_accuracy: 0.8667 - 57ms/epoch - 14ms/step\n",
            "Epoch 51/100\n",
            "4/4 - 0s - loss: 0.0472 - accuracy: 0.9833 - val_loss: 0.1574 - val_accuracy: 0.8667 - 61ms/epoch - 15ms/step\n",
            "Epoch 52/100\n",
            "4/4 - 0s - loss: 0.0416 - accuracy: 0.9833 - val_loss: 0.1104 - val_accuracy: 0.9333 - 60ms/epoch - 15ms/step\n",
            "Epoch 53/100\n",
            "4/4 - 0s - loss: 0.0470 - accuracy: 0.9833 - val_loss: 0.2231 - val_accuracy: 0.8667 - 56ms/epoch - 14ms/step\n",
            "Epoch 54/100\n",
            "4/4 - 0s - loss: 0.0370 - accuracy: 0.9917 - val_loss: 0.1280 - val_accuracy: 0.8667 - 59ms/epoch - 15ms/step\n",
            "Epoch 55/100\n",
            "4/4 - 0s - loss: 0.0404 - accuracy: 0.9833 - val_loss: 0.1655 - val_accuracy: 0.8667 - 58ms/epoch - 14ms/step\n",
            "Epoch 56/100\n",
            "4/4 - 0s - loss: 0.0416 - accuracy: 0.9833 - val_loss: 0.1428 - val_accuracy: 0.9333 - 57ms/epoch - 14ms/step\n",
            "Epoch 57/100\n",
            "4/4 - 0s - loss: 0.0369 - accuracy: 0.9917 - val_loss: 0.1323 - val_accuracy: 0.9333 - 56ms/epoch - 14ms/step\n",
            "Epoch 58/100\n",
            "4/4 - 0s - loss: 0.0372 - accuracy: 0.9833 - val_loss: 0.1902 - val_accuracy: 0.8667 - 54ms/epoch - 13ms/step\n",
            "Epoch 59/100\n",
            "4/4 - 0s - loss: 0.0384 - accuracy: 0.9917 - val_loss: 0.1651 - val_accuracy: 0.8667 - 54ms/epoch - 13ms/step\n",
            "Epoch 60/100\n",
            "4/4 - 0s - loss: 0.0355 - accuracy: 0.9917 - val_loss: 0.1501 - val_accuracy: 0.8667 - 55ms/epoch - 14ms/step\n",
            "Epoch 61/100\n",
            "4/4 - 0s - loss: 0.0431 - accuracy: 0.9750 - val_loss: 0.2656 - val_accuracy: 0.8667 - 54ms/epoch - 14ms/step\n",
            "Epoch 62/100\n",
            "4/4 - 0s - loss: 0.0602 - accuracy: 0.9750 - val_loss: 0.0900 - val_accuracy: 0.9333 - 53ms/epoch - 13ms/step\n",
            "Epoch 63/100\n",
            "4/4 - 0s - loss: 0.1202 - accuracy: 0.9500 - val_loss: 0.2419 - val_accuracy: 0.8667 - 52ms/epoch - 13ms/step\n",
            "Epoch 64/100\n",
            "4/4 - 0s - loss: 0.1975 - accuracy: 0.9250 - val_loss: 0.2636 - val_accuracy: 0.8667 - 52ms/epoch - 13ms/step\n",
            "Epoch 65/100\n",
            "4/4 - 0s - loss: 0.1261 - accuracy: 0.9583 - val_loss: 0.0683 - val_accuracy: 1.0000 - 53ms/epoch - 13ms/step\n",
            "Epoch 66/100\n",
            "4/4 - 0s - loss: 0.0735 - accuracy: 0.9750 - val_loss: 0.3799 - val_accuracy: 0.8667 - 54ms/epoch - 13ms/step\n",
            "Epoch 67/100\n",
            "4/4 - 0s - loss: 0.0993 - accuracy: 0.9667 - val_loss: 0.1046 - val_accuracy: 0.9333 - 53ms/epoch - 13ms/step\n",
            "Epoch 68/100\n",
            "4/4 - 0s - loss: 0.0574 - accuracy: 0.9750 - val_loss: 0.0726 - val_accuracy: 1.0000 - 56ms/epoch - 14ms/step\n",
            "Epoch 69/100\n",
            "4/4 - 0s - loss: 0.0456 - accuracy: 0.9833 - val_loss: 0.2345 - val_accuracy: 0.8667 - 59ms/epoch - 15ms/step\n",
            "Epoch 70/100\n",
            "4/4 - 0s - loss: 0.0553 - accuracy: 0.9833 - val_loss: 0.2449 - val_accuracy: 0.8667 - 56ms/epoch - 14ms/step\n",
            "Epoch 71/100\n",
            "4/4 - 0s - loss: 0.0487 - accuracy: 0.9833 - val_loss: 0.1164 - val_accuracy: 0.8667 - 56ms/epoch - 14ms/step\n",
            "Epoch 72/100\n",
            "4/4 - 0s - loss: 0.0462 - accuracy: 0.9833 - val_loss: 0.0765 - val_accuracy: 1.0000 - 56ms/epoch - 14ms/step\n",
            "Epoch 73/100\n",
            "4/4 - 0s - loss: 0.0543 - accuracy: 0.9750 - val_loss: 0.1501 - val_accuracy: 0.8667 - 58ms/epoch - 14ms/step\n",
            "Epoch 74/100\n",
            "4/4 - 0s - loss: 0.0447 - accuracy: 0.9833 - val_loss: 0.2067 - val_accuracy: 0.8667 - 57ms/epoch - 14ms/step\n",
            "Epoch 75/100\n",
            "4/4 - 0s - loss: 0.0352 - accuracy: 0.9917 - val_loss: 0.0884 - val_accuracy: 1.0000 - 59ms/epoch - 15ms/step\n",
            "Epoch 76/100\n",
            "4/4 - 0s - loss: 0.0466 - accuracy: 0.9833 - val_loss: 0.0923 - val_accuracy: 0.9333 - 56ms/epoch - 14ms/step\n",
            "Epoch 77/100\n",
            "4/4 - 0s - loss: 0.0412 - accuracy: 0.9750 - val_loss: 0.2104 - val_accuracy: 0.8667 - 55ms/epoch - 14ms/step\n",
            "Epoch 78/100\n",
            "4/4 - 0s - loss: 0.0384 - accuracy: 0.9917 - val_loss: 0.1110 - val_accuracy: 0.9333 - 58ms/epoch - 15ms/step\n",
            "Epoch 79/100\n",
            "4/4 - 0s - loss: 0.0442 - accuracy: 0.9833 - val_loss: 0.1086 - val_accuracy: 0.9333 - 55ms/epoch - 14ms/step\n",
            "Epoch 80/100\n",
            "4/4 - 0s - loss: 0.0621 - accuracy: 0.9750 - val_loss: 0.2929 - val_accuracy: 0.8667 - 54ms/epoch - 13ms/step\n",
            "Epoch 81/100\n",
            "4/4 - 0s - loss: 0.0450 - accuracy: 0.9917 - val_loss: 0.0828 - val_accuracy: 1.0000 - 54ms/epoch - 14ms/step\n",
            "Epoch 82/100\n",
            "4/4 - 0s - loss: 0.0497 - accuracy: 0.9750 - val_loss: 0.1586 - val_accuracy: 0.8667 - 56ms/epoch - 14ms/step\n",
            "Epoch 83/100\n",
            "4/4 - 0s - loss: 0.0376 - accuracy: 0.9917 - val_loss: 0.2617 - val_accuracy: 0.8667 - 59ms/epoch - 15ms/step\n",
            "Epoch 84/100\n",
            "4/4 - 0s - loss: 0.0428 - accuracy: 0.9917 - val_loss: 0.1170 - val_accuracy: 0.9333 - 90ms/epoch - 23ms/step\n",
            "Epoch 85/100\n",
            "4/4 - 0s - loss: 0.0565 - accuracy: 0.9833 - val_loss: 0.0849 - val_accuracy: 1.0000 - 57ms/epoch - 14ms/step\n",
            "Epoch 86/100\n",
            "4/4 - 0s - loss: 0.0388 - accuracy: 0.9833 - val_loss: 0.2612 - val_accuracy: 0.8667 - 56ms/epoch - 14ms/step\n",
            "Epoch 87/100\n",
            "4/4 - 0s - loss: 0.0789 - accuracy: 0.9667 - val_loss: 0.2042 - val_accuracy: 0.8667 - 55ms/epoch - 14ms/step\n",
            "Epoch 88/100\n",
            "4/4 - 0s - loss: 0.1109 - accuracy: 0.9500 - val_loss: 0.1222 - val_accuracy: 0.9333 - 54ms/epoch - 14ms/step\n",
            "Epoch 89/100\n",
            "4/4 - 0s - loss: 0.1086 - accuracy: 0.9500 - val_loss: 0.3658 - val_accuracy: 0.8667 - 53ms/epoch - 13ms/step\n",
            "Epoch 90/100\n",
            "4/4 - 0s - loss: 0.0502 - accuracy: 0.9750 - val_loss: 0.0580 - val_accuracy: 1.0000 - 53ms/epoch - 13ms/step\n",
            "Epoch 91/100\n",
            "4/4 - 0s - loss: 0.0723 - accuracy: 0.9583 - val_loss: 0.0879 - val_accuracy: 1.0000 - 54ms/epoch - 14ms/step\n",
            "Epoch 92/100\n",
            "4/4 - 0s - loss: 0.0466 - accuracy: 0.9833 - val_loss: 0.4061 - val_accuracy: 0.8667 - 57ms/epoch - 14ms/step\n",
            "Epoch 93/100\n",
            "4/4 - 0s - loss: 0.0848 - accuracy: 0.9583 - val_loss: 0.2190 - val_accuracy: 0.8667 - 55ms/epoch - 14ms/step\n",
            "Epoch 94/100\n",
            "4/4 - 0s - loss: 0.0542 - accuracy: 0.9833 - val_loss: 0.0587 - val_accuracy: 1.0000 - 56ms/epoch - 14ms/step\n",
            "Epoch 95/100\n",
            "4/4 - 0s - loss: 0.0729 - accuracy: 0.9667 - val_loss: 0.3270 - val_accuracy: 0.8667 - 56ms/epoch - 14ms/step\n",
            "Epoch 96/100\n",
            "4/4 - 0s - loss: 0.1035 - accuracy: 0.9750 - val_loss: 0.3021 - val_accuracy: 0.8667 - 55ms/epoch - 14ms/step\n",
            "Epoch 97/100\n",
            "4/4 - 0s - loss: 0.0583 - accuracy: 0.9917 - val_loss: 0.0656 - val_accuracy: 1.0000 - 56ms/epoch - 14ms/step\n",
            "Epoch 98/100\n",
            "4/4 - 0s - loss: 0.0617 - accuracy: 0.9833 - val_loss: 0.0876 - val_accuracy: 1.0000 - 55ms/epoch - 14ms/step\n",
            "Epoch 99/100\n",
            "4/4 - 0s - loss: 0.0521 - accuracy: 0.9917 - val_loss: 0.1885 - val_accuracy: 0.8667 - 55ms/epoch - 14ms/step\n",
            "Epoch 100/100\n",
            "4/4 - 0s - loss: 0.0412 - accuracy: 0.9917 - val_loss: 0.1361 - val_accuracy: 0.8667 - 54ms/epoch - 13ms/step\n"
          ]
        }
      ],
      "source": [
        "# create model\n",
        "# model from: https://www.kaggle.com/venkatkrishnan/iris-data-tensorflow-neural-network \n",
        "\n",
        "tf.random.set_seed(42)\n",
        "\n",
        "\n",
        "model_2 = keras.Sequential([                   \n",
        "        keras.layers.Dense(1000, activation='relu'),\n",
        "        keras.layers.Dense(500, activation='relu',),\n",
        "        keras.layers.Dense(300, activation='relu'),\n",
        "        keras.layers.Dropout(0.2),\n",
        "        keras.layers.Dense(3, activation='softmax')\n",
        "])\n",
        "\n",
        "\n",
        "model_2.compile(loss='categorical_crossentropy', optimizer=keras.optimizers.Adam(learning_rate=0.001), metrics='accuracy')\n",
        "\n",
        "\n",
        "history_model_2 = model_2.fit(\n",
        "    X_train,\n",
        "    y_train,\n",
        "    validation_data=(X_val, y_val),\n",
        "    epochs=100,\n",
        "    verbose=2\n",
        ")"
      ]
    },
    {
      "cell_type": "code",
      "execution_count": 18,
      "metadata": {
        "colab": {
          "base_uri": "https://localhost:8080/",
          "height": 459
        },
        "id": "dkWJ2PpwyIpr",
        "outputId": "a716d5d6-beac-44f9-fbf0-9a4781378fd4"
      },
      "outputs": [
        {
          "data": {
            "text/plain": [
              "Text(0.5, 0, 'epochs')"
            ]
          },
          "execution_count": 18,
          "metadata": {},
          "output_type": "execute_result"
        },
        {
          "data": {
            "image/png": "[encoded data removed]",
            "text/plain": [
              "<Figure size 720x504 with 1 Axes>"
            ]
          },
          "metadata": {
            "needs_background": "light"
          },
          "output_type": "display_data"
        }
      ],
      "source": [
        "# plot loss curve\n",
        "\n",
        "pd.DataFrame(history_model_2.history).plot(figsize=(10,7))\n",
        "plt.xlabel('epochs')\n"
      ]
    },
    {
      "cell_type": "code",
      "execution_count": 19,
      "metadata": {
        "colab": {
          "base_uri": "https://localhost:8080/"
        },
        "id": "NwoyrRJ2yIp1",
        "outputId": "d7726b99-293d-4f92-e87c-95c5e821e1d2"
      },
      "outputs": [
        {
          "name": "stdout",
          "output_type": "stream",
          "text": [
            "1/1 [==============================] - 0s 17ms/step - loss: 0.0036 - accuracy: 1.0000\n"
          ]
        },
        {
          "data": {
            "text/plain": [
              "[0.003636186709627509, 1.0]"
            ]
          },
          "execution_count": 19,
          "metadata": {},
          "output_type": "execute_result"
        }
      ],
      "source": [
        "model_2.evaluate(X_test, y_test)\n",
        "\n",
        "# accuracy: 1 (!)"
      ]
    },
    {
      "cell_type": "code",
      "execution_count": 20,
      "metadata": {
        "colab": {
          "base_uri": "https://localhost:8080/"
        },
        "id": "9bIhJj-zyIp1",
        "outputId": "277c6cfa-9816-4cc6-a3ac-6489a2f34a49"
      },
      "outputs": [
        {
          "name": "stderr",
          "output_type": "stream",
          "text": [
            "2022-02-08 17:04:48.832035: I tensorflow/core/grappler/optimizers/custom_graph_optimizer_registry.cc:112] Plugin optimizer for device_type GPU is enabled.\n"
          ]
        },
        {
          "data": {
            "text/plain": [
              "(array([[7.1242423e-04, 9.9678552e-01, 2.5020160e-03],\n",
              "        [1.0558182e-05, 1.0455415e-02, 9.8953396e-01],\n",
              "        [7.3415873e-04, 9.9298465e-01, 6.2812660e-03],\n",
              "        [3.5726978e-04, 9.9931037e-01, 3.3239930e-04],\n",
              "        [4.8206959e-07, 9.9081488e-04, 9.9900872e-01],\n",
              "        [9.9999487e-01, 5.1626821e-06, 6.3444123e-14],\n",
              "        [9.9999964e-01, 3.1700273e-07, 8.0724617e-16],\n",
              "        [9.9999940e-01, 5.8024438e-07, 2.1999697e-15],\n",
              "        [9.9999869e-01, 1.2865662e-06, 4.9517110e-15],\n",
              "        [9.9999988e-01, 1.5687365e-07, 1.9950891e-16],\n",
              "        [6.3870328e-07, 7.9545943e-04, 9.9920398e-01],\n",
              "        [1.1665416e-05, 1.2642431e-02, 9.8734587e-01],\n",
              "        [3.0979234e-05, 1.8339437e-02, 9.8162961e-01],\n",
              "        [9.9999988e-01, 9.3116959e-08, 6.3896897e-17],\n",
              "        [1.0000000e+00, 2.0104617e-08, 3.0679935e-18]], dtype=float32),\n",
              " array([1, 2, 1, 1, 2, 0, 0, 0, 0, 0, 2, 2, 2, 0, 0]),\n",
              " array([1, 2, 1, 1, 2, 0, 0, 0, 0, 0, 2, 2, 2, 0, 0]),\n",
              " 15)"
            ]
          },
          "execution_count": 20,
          "metadata": {},
          "output_type": "execute_result"
        }
      ],
      "source": [
        "y_pred = model_2.predict(X_test)\n",
        "\n",
        "y_pred, y_pred.argmax(axis=-1), y_test.argmax(axis=-1), len(y_pred)\n",
        "\n",
        "# 15 out of 15 right!\n",
        "# array([1, 2, 1, 1, 2, 0, 0, 0, 0, 0, 2, 2, 2, 0, 0]),\n",
        "# array([1, 2, 1, 1, 2, 0, 0, 0, 0, 0, 2, 2, 2, 0, 0]),\n"
      ]
    },
    {
      "cell_type": "markdown",
      "metadata": {
        "id": "2K4VjijDkV8W"
      },
      "source": [
        "Note the difference in model architecture: \n",
        "- In model_1 I used two hidden layers, a few units per hidden layer and results were good qith over 80% y_pred accuracy.\n",
        "- Then I found a user's [approach](https://www.kaggle.com/venkatkrishnan/iris-data-tensorflow-neural-network) to the multiclass classification model with more layers, many more hidden units (neurons), a Dropout layer and 100 epochs.\n",
        "- Their model yielded even better results - 100% y_pred accuracy."
      ]
    },
    {
      "cell_type": "code",
      "execution_count": null,
      "metadata": {
        "id": "XPsa4g7Kpqn7"
      },
      "outputs": [],
      "source": []
    }
  ],
  "metadata": {
    "colab": {
      "name": "flowers_model.ipynb",
      "provenance": []
    },
    "kernelspec": {
      "display_name": "Python 3",
      "name": "python3"
    },
    "language_info": {
      "codemirror_mode": {
        "name": "ipython",
        "version": 3
      },
      "file_extension": ".py",
      "mimetype": "text/x-python",
      "name": "python",
      "nbconvert_exporter": "python",
      "pygments_lexer": "ipython3",
      "version": "3.9.7"
    }
  },
  "nbformat": 4,
  "nbformat_minor": 0
}
