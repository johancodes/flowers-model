{
  "cells": [
    {
      "cell_type": "markdown",
      "metadata": {
        "id": "lhn4gC7nldJ0"
      },
      "source": [
        "MULTICLASS CLASSIFICATION MODEL"
      ]
    },
    {
      "cell_type": "markdown",
      "metadata": {
        "id": "AZFRi-XfbIJD"
      },
      "source": [
        "The flowers dataset is well studied and is a good problem for practicing on neural networks because all of the 4 input variables are numeric and have the same scale in centimeters. Each instance describes the properties of an observed flower measurements and the output variable is specific iris species.\n",
        "\n",
        "This is a multi-class classification problem, meaning that there are more than two classes to be predicted, in fact there are three flower species. This is an important type of problem on which to practice with neural networks because the three class values require specialized handling.\n",
        "\n",
        "The iris flower dataset is a well-studied problem and a such we can expect to achieve a model accuracy in the range of 95% to 97%. This provides a good target to aim for when developing our models.\n",
        "\n",
        "Yada yada!"
      ]
    },
    {
      "cell_type": "code",
      "execution_count": 61,
      "metadata": {
        "id": "-C3pMOsoS3nF"
      },
      "outputs": [],
      "source": [
        "# import libraries\n",
        "\n",
        "import tensorflow as tf\n",
        "from tensorflow import keras\n",
        "import pandas as pd\n",
        "import numpy as np\n",
        "import matplotlib.pyplot as plt\n",
        "from sklearn.preprocessing import MinMaxScaler, LabelEncoder, OneHotEncoder\n",
        "from sklearn.model_selection import train_test_split"
      ]
    },
    {
      "cell_type": "code",
      "execution_count": 62,
      "metadata": {
        "id": "ALmsf6B5T3vI"
      },
      "outputs": [],
      "source": [
        "# import dataframe\n",
        "# add header names as the orig csv does not have them and uses the 1st row as header row(!)\n",
        "\n",
        "df = pd.read_csv('https://raw.githubusercontent.com/jbrownlee/Datasets/master/iris.csv',\n",
        "                         names=['X1', 'X2', 'X3', 'X4', 'Name'])"
      ]
    },
    {
      "cell_type": "code",
      "execution_count": 63,
      "metadata": {
        "colab": {
          "base_uri": "https://localhost:8080/",
          "height": 424
        },
        "id": "C9wDnCQaU4ma",
        "outputId": "2162870e-ec65-4076-f9a0-a890dae3dac5"
      },
      "outputs": [
        {
          "data": {
            "text/html": [
              "<div>\n",
              "<style scoped>\n",
              "    .dataframe tbody tr th:only-of-type {\n",
              "        vertical-align: middle;\n",
              "    }\n",
              "\n",
              "    .dataframe tbody tr th {\n",
              "        vertical-align: top;\n",
              "    }\n",
              "\n",
              "    .dataframe thead th {\n",
              "        text-align: right;\n",
              "    }\n",
              "</style>\n",
              "<table border=\"1\" class=\"dataframe\">\n",
              "  <thead>\n",
              "    <tr style=\"text-align: right;\">\n",
              "      <th></th>\n",
              "      <th>X1</th>\n",
              "      <th>X2</th>\n",
              "      <th>X3</th>\n",
              "      <th>X4</th>\n",
              "      <th>Name</th>\n",
              "    </tr>\n",
              "  </thead>\n",
              "  <tbody>\n",
              "    <tr>\n",
              "      <th>0</th>\n",
              "      <td>5.1</td>\n",
              "      <td>3.5</td>\n",
              "      <td>1.4</td>\n",
              "      <td>0.2</td>\n",
              "      <td>Iris-setosa</td>\n",
              "    </tr>\n",
              "    <tr>\n",
              "      <th>1</th>\n",
              "      <td>4.9</td>\n",
              "      <td>3.0</td>\n",
              "      <td>1.4</td>\n",
              "      <td>0.2</td>\n",
              "      <td>Iris-setosa</td>\n",
              "    </tr>\n",
              "    <tr>\n",
              "      <th>2</th>\n",
              "      <td>4.7</td>\n",
              "      <td>3.2</td>\n",
              "      <td>1.3</td>\n",
              "      <td>0.2</td>\n",
              "      <td>Iris-setosa</td>\n",
              "    </tr>\n",
              "    <tr>\n",
              "      <th>3</th>\n",
              "      <td>4.6</td>\n",
              "      <td>3.1</td>\n",
              "      <td>1.5</td>\n",
              "      <td>0.2</td>\n",
              "      <td>Iris-setosa</td>\n",
              "    </tr>\n",
              "    <tr>\n",
              "      <th>4</th>\n",
              "      <td>5.0</td>\n",
              "      <td>3.6</td>\n",
              "      <td>1.4</td>\n",
              "      <td>0.2</td>\n",
              "      <td>Iris-setosa</td>\n",
              "    </tr>\n",
              "    <tr>\n",
              "      <th>...</th>\n",
              "      <td>...</td>\n",
              "      <td>...</td>\n",
              "      <td>...</td>\n",
              "      <td>...</td>\n",
              "      <td>...</td>\n",
              "    </tr>\n",
              "    <tr>\n",
              "      <th>145</th>\n",
              "      <td>6.7</td>\n",
              "      <td>3.0</td>\n",
              "      <td>5.2</td>\n",
              "      <td>2.3</td>\n",
              "      <td>Iris-virginica</td>\n",
              "    </tr>\n",
              "    <tr>\n",
              "      <th>146</th>\n",
              "      <td>6.3</td>\n",
              "      <td>2.5</td>\n",
              "      <td>5.0</td>\n",
              "      <td>1.9</td>\n",
              "      <td>Iris-virginica</td>\n",
              "    </tr>\n",
              "    <tr>\n",
              "      <th>147</th>\n",
              "      <td>6.5</td>\n",
              "      <td>3.0</td>\n",
              "      <td>5.2</td>\n",
              "      <td>2.0</td>\n",
              "      <td>Iris-virginica</td>\n",
              "    </tr>\n",
              "    <tr>\n",
              "      <th>148</th>\n",
              "      <td>6.2</td>\n",
              "      <td>3.4</td>\n",
              "      <td>5.4</td>\n",
              "      <td>2.3</td>\n",
              "      <td>Iris-virginica</td>\n",
              "    </tr>\n",
              "    <tr>\n",
              "      <th>149</th>\n",
              "      <td>5.9</td>\n",
              "      <td>3.0</td>\n",
              "      <td>5.1</td>\n",
              "      <td>1.8</td>\n",
              "      <td>Iris-virginica</td>\n",
              "    </tr>\n",
              "  </tbody>\n",
              "</table>\n",
              "<p>150 rows × 5 columns</p>\n",
              "</div>"
            ],
            "text/plain": [
              "      X1   X2   X3   X4            Name\n",
              "0    5.1  3.5  1.4  0.2     Iris-setosa\n",
              "1    4.9  3.0  1.4  0.2     Iris-setosa\n",
              "2    4.7  3.2  1.3  0.2     Iris-setosa\n",
              "3    4.6  3.1  1.5  0.2     Iris-setosa\n",
              "4    5.0  3.6  1.4  0.2     Iris-setosa\n",
              "..   ...  ...  ...  ...             ...\n",
              "145  6.7  3.0  5.2  2.3  Iris-virginica\n",
              "146  6.3  2.5  5.0  1.9  Iris-virginica\n",
              "147  6.5  3.0  5.2  2.0  Iris-virginica\n",
              "148  6.2  3.4  5.4  2.3  Iris-virginica\n",
              "149  5.9  3.0  5.1  1.8  Iris-virginica\n",
              "\n",
              "[150 rows x 5 columns]"
            ]
          },
          "execution_count": 63,
          "metadata": {},
          "output_type": "execute_result"
        }
      ],
      "source": [
        "df\n"
      ]
    },
    {
      "cell_type": "code",
      "execution_count": 64,
      "metadata": {
        "colab": {
          "base_uri": "https://localhost:8080/",
          "height": 81
        },
        "id": "Rm3oIl0sU6JT",
        "outputId": "767de6fb-8747-48bf-8dd8-57f9ed248bf8"
      },
      "outputs": [
        {
          "data": {
            "text/html": [
              "<div>\n",
              "<style scoped>\n",
              "    .dataframe tbody tr th:only-of-type {\n",
              "        vertical-align: middle;\n",
              "    }\n",
              "\n",
              "    .dataframe tbody tr th {\n",
              "        vertical-align: top;\n",
              "    }\n",
              "\n",
              "    .dataframe thead th {\n",
              "        text-align: right;\n",
              "    }\n",
              "</style>\n",
              "<table border=\"1\" class=\"dataframe\">\n",
              "  <thead>\n",
              "    <tr style=\"text-align: right;\">\n",
              "      <th></th>\n",
              "      <th>X1</th>\n",
              "      <th>X2</th>\n",
              "      <th>X3</th>\n",
              "      <th>X4</th>\n",
              "      <th>Name</th>\n",
              "    </tr>\n",
              "  </thead>\n",
              "  <tbody>\n",
              "    <tr>\n",
              "      <th>0</th>\n",
              "      <td>5.1</td>\n",
              "      <td>3.5</td>\n",
              "      <td>1.4</td>\n",
              "      <td>0.2</td>\n",
              "      <td>Iris-setosa</td>\n",
              "    </tr>\n",
              "  </tbody>\n",
              "</table>\n",
              "</div>"
            ],
            "text/plain": [
              "    X1   X2   X3   X4         Name\n",
              "0  5.1  3.5  1.4  0.2  Iris-setosa"
            ]
          },
          "execution_count": 64,
          "metadata": {},
          "output_type": "execute_result"
        }
      ],
      "source": [
        "df.iloc[:1, :]"
      ]
    },
    {
      "cell_type": "code",
      "execution_count": 65,
      "metadata": {
        "colab": {
          "base_uri": "https://localhost:8080/"
        },
        "id": "E5zqqvojU8fh",
        "outputId": "8617007b-af09-4567-f78e-c140677fe630"
      },
      "outputs": [
        {
          "name": "stdout",
          "output_type": "stream",
          "text": [
            "7.9 4.4 6.9 2.5\n",
            "4.3 2.0 1.0 0.1\n"
          ]
        }
      ],
      "source": [
        "print(df['X1'].max(), df['X2'].max(),df['X3'].max(),df['X4'].max())\n",
        "\n",
        "print(df['X1'].min(), df['X2'].min(),df['X3'].min(),df['X4'].min())\n",
        "\n",
        "# they're already in numbers, let's feature scale them using normalisation (vals from 0 to 1)"
      ]
    },
    {
      "cell_type": "code",
      "execution_count": 66,
      "metadata": {
        "colab": {
          "base_uri": "https://localhost:8080/"
        },
        "id": "gQ2PhB3_aaqX",
        "outputId": "0acf6f23-8e47-41e3-c7ed-b550952cf7d3"
      },
      "outputs": [
        {
          "data": {
            "text/plain": [
              "Iris-versicolor    50\n",
              "Iris-setosa        50\n",
              "Iris-virginica     50\n",
              "Name: Name, dtype: int64"
            ]
          },
          "execution_count": 66,
          "metadata": {},
          "output_type": "execute_result"
        }
      ],
      "source": [
        "df['Name'].value_counts()\n",
        "\n",
        "# equal samples per class name, no class imbalance"
      ]
    },
    {
      "cell_type": "code",
      "execution_count": 67,
      "metadata": {
        "id": "rxRzCEdxaxcK"
      },
      "outputs": [],
      "source": [
        "# normalise X vars\n",
        "\n",
        "mms = MinMaxScaler()\n",
        "\n",
        "df.iloc[:, :4] = mms.fit_transform(df.iloc[:, :4])"
      ]
    },
    {
      "cell_type": "code",
      "execution_count": 68,
      "metadata": {
        "colab": {
          "base_uri": "https://localhost:8080/",
          "height": 424
        },
        "id": "ZDSDnsPdch5r",
        "outputId": "f2252467-0920-4698-ef8e-a7648f2ac898"
      },
      "outputs": [
        {
          "data": {
            "text/html": [
              "<div>\n",
              "<style scoped>\n",
              "    .dataframe tbody tr th:only-of-type {\n",
              "        vertical-align: middle;\n",
              "    }\n",
              "\n",
              "    .dataframe tbody tr th {\n",
              "        vertical-align: top;\n",
              "    }\n",
              "\n",
              "    .dataframe thead th {\n",
              "        text-align: right;\n",
              "    }\n",
              "</style>\n",
              "<table border=\"1\" class=\"dataframe\">\n",
              "  <thead>\n",
              "    <tr style=\"text-align: right;\">\n",
              "      <th></th>\n",
              "      <th>X1</th>\n",
              "      <th>X2</th>\n",
              "      <th>X3</th>\n",
              "      <th>X4</th>\n",
              "      <th>Name</th>\n",
              "    </tr>\n",
              "  </thead>\n",
              "  <tbody>\n",
              "    <tr>\n",
              "      <th>0</th>\n",
              "      <td>0.222222</td>\n",
              "      <td>0.625000</td>\n",
              "      <td>0.067797</td>\n",
              "      <td>0.041667</td>\n",
              "      <td>Iris-setosa</td>\n",
              "    </tr>\n",
              "    <tr>\n",
              "      <th>1</th>\n",
              "      <td>0.166667</td>\n",
              "      <td>0.416667</td>\n",
              "      <td>0.067797</td>\n",
              "      <td>0.041667</td>\n",
              "      <td>Iris-setosa</td>\n",
              "    </tr>\n",
              "    <tr>\n",
              "      <th>2</th>\n",
              "      <td>0.111111</td>\n",
              "      <td>0.500000</td>\n",
              "      <td>0.050847</td>\n",
              "      <td>0.041667</td>\n",
              "      <td>Iris-setosa</td>\n",
              "    </tr>\n",
              "    <tr>\n",
              "      <th>3</th>\n",
              "      <td>0.083333</td>\n",
              "      <td>0.458333</td>\n",
              "      <td>0.084746</td>\n",
              "      <td>0.041667</td>\n",
              "      <td>Iris-setosa</td>\n",
              "    </tr>\n",
              "    <tr>\n",
              "      <th>4</th>\n",
              "      <td>0.194444</td>\n",
              "      <td>0.666667</td>\n",
              "      <td>0.067797</td>\n",
              "      <td>0.041667</td>\n",
              "      <td>Iris-setosa</td>\n",
              "    </tr>\n",
              "    <tr>\n",
              "      <th>...</th>\n",
              "      <td>...</td>\n",
              "      <td>...</td>\n",
              "      <td>...</td>\n",
              "      <td>...</td>\n",
              "      <td>...</td>\n",
              "    </tr>\n",
              "    <tr>\n",
              "      <th>145</th>\n",
              "      <td>0.666667</td>\n",
              "      <td>0.416667</td>\n",
              "      <td>0.711864</td>\n",
              "      <td>0.916667</td>\n",
              "      <td>Iris-virginica</td>\n",
              "    </tr>\n",
              "    <tr>\n",
              "      <th>146</th>\n",
              "      <td>0.555556</td>\n",
              "      <td>0.208333</td>\n",
              "      <td>0.677966</td>\n",
              "      <td>0.750000</td>\n",
              "      <td>Iris-virginica</td>\n",
              "    </tr>\n",
              "    <tr>\n",
              "      <th>147</th>\n",
              "      <td>0.611111</td>\n",
              "      <td>0.416667</td>\n",
              "      <td>0.711864</td>\n",
              "      <td>0.791667</td>\n",
              "      <td>Iris-virginica</td>\n",
              "    </tr>\n",
              "    <tr>\n",
              "      <th>148</th>\n",
              "      <td>0.527778</td>\n",
              "      <td>0.583333</td>\n",
              "      <td>0.745763</td>\n",
              "      <td>0.916667</td>\n",
              "      <td>Iris-virginica</td>\n",
              "    </tr>\n",
              "    <tr>\n",
              "      <th>149</th>\n",
              "      <td>0.444444</td>\n",
              "      <td>0.416667</td>\n",
              "      <td>0.694915</td>\n",
              "      <td>0.708333</td>\n",
              "      <td>Iris-virginica</td>\n",
              "    </tr>\n",
              "  </tbody>\n",
              "</table>\n",
              "<p>150 rows × 5 columns</p>\n",
              "</div>"
            ],
            "text/plain": [
              "           X1        X2        X3        X4            Name\n",
              "0    0.222222  0.625000  0.067797  0.041667     Iris-setosa\n",
              "1    0.166667  0.416667  0.067797  0.041667     Iris-setosa\n",
              "2    0.111111  0.500000  0.050847  0.041667     Iris-setosa\n",
              "3    0.083333  0.458333  0.084746  0.041667     Iris-setosa\n",
              "4    0.194444  0.666667  0.067797  0.041667     Iris-setosa\n",
              "..        ...       ...       ...       ...             ...\n",
              "145  0.666667  0.416667  0.711864  0.916667  Iris-virginica\n",
              "146  0.555556  0.208333  0.677966  0.750000  Iris-virginica\n",
              "147  0.611111  0.416667  0.711864  0.791667  Iris-virginica\n",
              "148  0.527778  0.583333  0.745763  0.916667  Iris-virginica\n",
              "149  0.444444  0.416667  0.694915  0.708333  Iris-virginica\n",
              "\n",
              "[150 rows x 5 columns]"
            ]
          },
          "execution_count": 68,
          "metadata": {},
          "output_type": "execute_result"
        }
      ],
      "source": [
        "df"
      ]
    },
    {
      "cell_type": "code",
      "execution_count": 69,
      "metadata": {
        "colab": {
          "base_uri": "https://localhost:8080/"
        },
        "id": "sXKAhtPqcjtr",
        "outputId": "2eeda760-43fa-43be-f950-b591d6a966bf"
      },
      "outputs": [
        {
          "name": "stdout",
          "output_type": "stream",
          "text": [
            "1.0 1.0 1.0 1.0\n",
            "0.0 0.0 0.0 0.0\n"
          ]
        }
      ],
      "source": [
        "print(df['X1'].max(), df['X2'].max(),df['X3'].max(),df['X4'].max())\n",
        "\n",
        "print(df['X1'].min(), df['X2'].min(),df['X3'].min(),df['X4'].min())"
      ]
    },
    {
      "cell_type": "code",
      "execution_count": 70,
      "metadata": {
        "id": "uNfjfJoVmeYh"
      },
      "outputs": [],
      "source": [
        "# define X and y\n",
        "\n",
        "X = df.iloc[:, :4]\n",
        "\n",
        "y = df[['Name']]"
      ]
    },
    {
      "cell_type": "code",
      "execution_count": 71,
      "metadata": {
        "colab": {
          "base_uri": "https://localhost:8080/",
          "height": 53
        },
        "id": "5v5H-Qhocm4p",
        "outputId": "4bf48708-5982-4db1-fb80-719f6094ad67"
      },
      "outputs": [
        {
          "data": {
            "application/vnd.google.colaboratory.intrinsic+json": {
              "type": "string"
            },
            "text/plain": [
              "\"\\nohe = OneHotEncoder(sparse=False)\\n\\ny = df[['breast-quad']] # add double square brackets or we'll get a shape error\\n\\ny = ohe.fit_transform(y)\""
            ]
          },
          "execution_count": 71,
          "metadata": {},
          "output_type": "execute_result"
        }
      ],
      "source": [
        "'''# label encode the target variable\n",
        "\n",
        "le = LabelEncoder()\n",
        "\n",
        "df.iloc[:, -1] = le.fit_transform(df.iloc[:, -1])\n",
        "'''\n",
        "# label encode the target variable\n",
        "\n",
        "ohe = OneHotEncoder(sparse=False)\n",
        "\n",
        "y = ohe.fit_transform(y)\n",
        "\n",
        "'''\n",
        "ohe = OneHotEncoder(sparse=False)\n",
        "\n",
        "y = df[['breast-quad']] # add double square brackets or we'll get a shape error\n",
        "\n",
        "y = ohe.fit_transform(y)'''\n"
      ]
    },
    {
      "cell_type": "code",
      "execution_count": 72,
      "metadata": {
        "colab": {
          "base_uri": "https://localhost:8080/"
        },
        "id": "qJ9XvCG7l6xi",
        "outputId": "dc8c8ceb-6c53-4801-a914-aca242d71e5b"
      },
      "outputs": [
        {
          "name": "stdout",
          "output_type": "stream",
          "text": [
            "(120, 4) (120, 3) (30, 4) (30, 3)\n",
            "(15, 4) (15, 3) (15, 4) (15, 3)\n",
            "X_train:            X1        X2        X3        X4\n",
            "17   0.222222  0.625000  0.067797  0.083333\n",
            "81   0.333333  0.166667  0.457627  0.375000\n",
            "103  0.555556  0.375000  0.779661  0.708333\n",
            "33   0.333333  0.916667  0.067797  0.041667\n",
            "101  0.416667  0.291667  0.694915  0.750000\n",
            "..        ...       ...       ...       ...\n",
            "76   0.694444  0.333333  0.644068  0.541667\n",
            "3    0.083333  0.458333  0.084746  0.041667\n",
            "130  0.861111  0.333333  0.864407  0.750000\n",
            "134  0.500000  0.250000  0.779661  0.541667\n",
            "75   0.638889  0.416667  0.576271  0.541667\n",
            "\n",
            "[120 rows x 4 columns]\n",
            "y_train: [[1. 0. 0.]\n",
            " [0. 1. 0.]\n",
            " [0. 0. 1.]\n",
            " [1. 0. 0.]\n",
            " [0. 0. 1.]\n",
            " [1. 0. 0.]\n",
            " [0. 1. 0.]\n",
            " [0. 1. 0.]\n",
            " [1. 0. 0.]\n",
            " [0. 1. 0.]\n",
            " [0. 1. 0.]\n",
            " [1. 0. 0.]\n",
            " [1. 0. 0.]\n",
            " [1. 0. 0.]\n",
            " [1. 0. 0.]\n",
            " [1. 0. 0.]\n",
            " [1. 0. 0.]\n",
            " [1. 0. 0.]\n",
            " [0. 0. 1.]\n",
            " [1. 0. 0.]\n",
            " [0. 0. 1.]\n",
            " [0. 1. 0.]\n",
            " [0. 1. 0.]\n",
            " [0. 1. 0.]\n",
            " [1. 0. 0.]\n",
            " [0. 0. 1.]\n",
            " [0. 1. 0.]\n",
            " [0. 1. 0.]\n",
            " [0. 0. 1.]\n",
            " [1. 0. 0.]\n",
            " [0. 0. 1.]\n",
            " [1. 0. 0.]\n",
            " [0. 0. 1.]\n",
            " [0. 0. 1.]\n",
            " [0. 0. 1.]\n",
            " [0. 0. 1.]\n",
            " [0. 1. 0.]\n",
            " [0. 1. 0.]\n",
            " [0. 1. 0.]\n",
            " [0. 1. 0.]\n",
            " [0. 0. 1.]\n",
            " [1. 0. 0.]\n",
            " [0. 0. 1.]\n",
            " [0. 0. 1.]\n",
            " [1. 0. 0.]\n",
            " [0. 1. 0.]\n",
            " [1. 0. 0.]\n",
            " [0. 0. 1.]\n",
            " [0. 0. 1.]\n",
            " [1. 0. 0.]\n",
            " [0. 1. 0.]\n",
            " [0. 1. 0.]\n",
            " [1. 0. 0.]\n",
            " [1. 0. 0.]\n",
            " [0. 1. 0.]\n",
            " [0. 1. 0.]\n",
            " [0. 1. 0.]\n",
            " [0. 1. 0.]\n",
            " [0. 0. 1.]\n",
            " [0. 1. 0.]\n",
            " [0. 0. 1.]\n",
            " [1. 0. 0.]\n",
            " [1. 0. 0.]\n",
            " [0. 1. 0.]\n",
            " [0. 1. 0.]\n",
            " [0. 1. 0.]\n",
            " [1. 0. 0.]\n",
            " [0. 0. 1.]\n",
            " [0. 1. 0.]\n",
            " [1. 0. 0.]\n",
            " [0. 0. 1.]\n",
            " [0. 0. 1.]\n",
            " [0. 1. 0.]\n",
            " [0. 0. 1.]\n",
            " [0. 0. 1.]\n",
            " [1. 0. 0.]\n",
            " [1. 0. 0.]\n",
            " [0. 0. 1.]\n",
            " [0. 1. 0.]\n",
            " [0. 1. 0.]\n",
            " [0. 0. 1.]\n",
            " [1. 0. 0.]\n",
            " [0. 1. 0.]\n",
            " [0. 1. 0.]\n",
            " [1. 0. 0.]\n",
            " [0. 1. 0.]\n",
            " [0. 1. 0.]\n",
            " [0. 0. 1.]\n",
            " [0. 0. 1.]\n",
            " [0. 1. 0.]\n",
            " [1. 0. 0.]\n",
            " [0. 0. 1.]\n",
            " [1. 0. 0.]\n",
            " [0. 0. 1.]\n",
            " [1. 0. 0.]\n",
            " [1. 0. 0.]\n",
            " [0. 1. 0.]\n",
            " [0. 0. 1.]\n",
            " [0. 0. 1.]\n",
            " [0. 1. 0.]\n",
            " [0. 0. 1.]\n",
            " [0. 0. 1.]\n",
            " [1. 0. 0.]\n",
            " [0. 1. 0.]\n",
            " [0. 1. 0.]\n",
            " [1. 0. 0.]\n",
            " [0. 0. 1.]\n",
            " [0. 0. 1.]\n",
            " [0. 0. 1.]\n",
            " [0. 1. 0.]\n",
            " [0. 0. 1.]\n",
            " [0. 0. 1.]\n",
            " [0. 0. 1.]\n",
            " [1. 0. 0.]\n",
            " [1. 0. 0.]\n",
            " [0. 1. 0.]\n",
            " [1. 0. 0.]\n",
            " [0. 0. 1.]\n",
            " [0. 0. 1.]\n",
            " [0. 1. 0.]]\n",
            "X_val:            X1        X2        X3        X4\n",
            "126  0.527778  0.333333  0.644068  0.708333\n",
            "146  0.555556  0.208333  0.677966  0.750000\n",
            "38   0.027778  0.416667  0.050847  0.041667\n",
            "145  0.666667  0.416667  0.711864  0.916667\n",
            "99   0.388889  0.333333  0.525424  0.500000\n",
            "71   0.500000  0.333333  0.508475  0.500000\n",
            "77   0.666667  0.416667  0.677966  0.666667\n",
            "6    0.083333  0.583333  0.067797  0.083333\n",
            "41   0.055556  0.125000  0.050847  0.083333\n",
            "1    0.166667  0.416667  0.067797  0.041667\n",
            "39   0.222222  0.583333  0.084746  0.041667\n",
            "66   0.361111  0.416667  0.593220  0.583333\n",
            "50   0.750000  0.500000  0.627119  0.541667\n",
            "72   0.555556  0.208333  0.661017  0.583333\n",
            "148  0.527778  0.583333  0.745763  0.916667\n",
            "y_val: [[0. 0. 1.]\n",
            " [0. 0. 1.]\n",
            " [1. 0. 0.]\n",
            " [0. 0. 1.]\n",
            " [0. 1. 0.]\n",
            " [0. 1. 0.]\n",
            " [0. 1. 0.]\n",
            " [1. 0. 0.]\n",
            " [1. 0. 0.]\n",
            " [1. 0. 0.]\n",
            " [1. 0. 0.]\n",
            " [0. 1. 0.]\n",
            " [0. 1. 0.]\n",
            " [0. 1. 0.]\n",
            " [0. 0. 1.]]\n",
            "X_test:            X1        X2        X3        X4\n",
            "90   0.333333  0.250000  0.576271  0.458333\n",
            "125  0.805556  0.500000  0.847458  0.708333\n",
            "78   0.472222  0.375000  0.593220  0.583333\n",
            "61   0.444444  0.416667  0.542373  0.583333\n",
            "135  0.944444  0.416667  0.864407  0.916667\n",
            "23   0.222222  0.541667  0.118644  0.166667\n",
            "11   0.138889  0.583333  0.101695  0.041667\n",
            "24   0.138889  0.583333  0.152542  0.041667\n",
            "31   0.305556  0.583333  0.084746  0.125000\n",
            "40   0.194444  0.625000  0.050847  0.083333\n",
            "143  0.694444  0.500000  0.830508  0.916667\n",
            "108  0.666667  0.208333  0.813559  0.708333\n",
            "116  0.611111  0.416667  0.762712  0.708333\n",
            "21   0.222222  0.708333  0.084746  0.125000\n",
            "16   0.305556  0.791667  0.050847  0.125000\n",
            "y_test: [[0. 1. 0.]\n",
            " [0. 0. 1.]\n",
            " [0. 1. 0.]\n",
            " [0. 1. 0.]\n",
            " [0. 0. 1.]\n",
            " [1. 0. 0.]\n",
            " [1. 0. 0.]\n",
            " [1. 0. 0.]\n",
            " [1. 0. 0.]\n",
            " [1. 0. 0.]\n",
            " [0. 0. 1.]\n",
            " [0. 0. 1.]\n",
            " [0. 0. 1.]\n",
            " [1. 0. 0.]\n",
            " [1. 0. 0.]]\n"
          ]
        }
      ],
      "source": [
        "\n",
        "\n",
        "# define training, validation and test sets\n",
        "\n",
        "# get training, validation and test datasets (80:10:10 ratio)\n",
        "\n",
        "X_train, X_val, y_train, y_val = train_test_split(X, y, test_size=0.2, random_state=12) # NB random_state=12\n",
        " \n",
        "print(X_train.shape, y_train.shape, X_val.shape, y_val.shape)\n",
        "\n",
        " \n",
        "X_val, X_test, y_val, y_test = train_test_split(X_val, y_val, test_size=0.5, random_state=42) # NB random_state=42\n",
        " \n",
        "print(X_val.shape, y_val.shape, X_test.shape, y_test.shape)\n",
        "\n",
        "\n",
        "print('X_train: ' + str(X_train))\n",
        " \n",
        "print('y_train: ' + str(y_train))\n",
        " \n",
        "print('X_val: ' + str(X_val))\n",
        " \n",
        "print('y_val: ' + str(y_val))\n",
        " \n",
        "print('X_test: ' + str(X_test))\n",
        " \n",
        "print('y_test: ' + str(y_test))\n",
        "\n"
      ]
    },
    {
      "cell_type": "code",
      "execution_count": 73,
      "metadata": {
        "colab": {
          "base_uri": "https://localhost:8080/"
        },
        "id": "Hn7kcAUdkLdh",
        "outputId": "cccf1730-b434-4e96-88d9-bb453d567188"
      },
      "outputs": [
        {
          "name": "stdout",
          "output_type": "stream",
          "text": [
            "Epoch 1/6\n",
            "4/4 - 1s - loss: 1.0991 - accuracy: 0.3417 - val_loss: 1.1610 - val_accuracy: 0.2667\n",
            "Epoch 2/6\n",
            "4/4 - 0s - loss: 1.0936 - accuracy: 0.3417 - val_loss: 1.1553 - val_accuracy: 0.3333\n",
            "Epoch 3/6\n",
            "4/4 - 0s - loss: 1.0884 - accuracy: 0.3500 - val_loss: 1.1499 - val_accuracy: 0.4000\n",
            "Epoch 4/6\n",
            "4/4 - 0s - loss: 1.0833 - accuracy: 0.4250 - val_loss: 1.1447 - val_accuracy: 0.5333\n",
            "Epoch 5/6\n",
            "4/4 - 0s - loss: 1.0783 - accuracy: 0.5000 - val_loss: 1.1395 - val_accuracy: 0.6000\n",
            "Epoch 6/6\n",
            "4/4 - 0s - loss: 1.0736 - accuracy: 0.6250 - val_loss: 1.1345 - val_accuracy: 0.6000\n"
          ]
        }
      ],
      "source": [
        "# create model\n",
        "\n",
        "tf.random.set_seed(42)\n",
        "\n",
        "\n",
        "model_1 = keras.Sequential([                     \n",
        "  keras.layers.Dense(4, activation='relu'),\n",
        "  keras.layers.Dense(3, activation='softmax')\n",
        "])\n",
        "\n",
        "\n",
        "model_1.compile(loss='categorical_crossentropy', optimizer=keras.optimizers.Adam(learning_rate=0.001), metrics='accuracy')\n",
        "\n",
        "\n",
        "history_model_1 = model_1.fit(\n",
        "    X_train,\n",
        "    y_train,\n",
        "    validation_data=(X_val, y_val),\n",
        "    epochs=6,\n",
        "    verbose=2\n",
        ")"
      ]
    },
    {
      "cell_type": "code",
      "execution_count": 74,
      "metadata": {
        "colab": {
          "base_uri": "https://localhost:8080/",
          "height": 461
        },
        "id": "G_SKbMgTnNo2",
        "outputId": "c2baa916-6538-492d-81cd-05d20e213220"
      },
      "outputs": [
        {
          "data": {
            "text/plain": [
              "Text(0.5, 0, 'epochs')"
            ]
          },
          "execution_count": 74,
          "metadata": {},
          "output_type": "execute_result"
        },
        {
          "data": {
            "image/png": "[encoded data removed]",
            "text/plain": [
              "<Figure size 720x504 with 1 Axes>"
            ]
          },
          "metadata": {
            "needs_background": "light"
          },
          "output_type": "display_data"
        }
      ],
      "source": [
        "# plot loss curve\n",
        "\n",
        "pd.DataFrame(history_model_1.history).plot(figsize=(10,7))\n",
        "plt.xlabel('epochs')\n"
      ]
    },
    {
      "cell_type": "code",
      "execution_count": 75,
      "metadata": {
        "colab": {
          "base_uri": "https://localhost:8080/"
        },
        "id": "-P02oESIoOiE",
        "outputId": "d5eddd3b-7fe5-41f9-adc0-177e36e95806"
      },
      "outputs": [
        {
          "name": "stdout",
          "output_type": "stream",
          "text": [
            "1/1 [==============================] - 0s 16ms/step - loss: 1.0231 - accuracy: 0.8000\n"
          ]
        },
        {
          "data": {
            "text/plain": [
              "[1.0230900049209595, 0.800000011920929]"
            ]
          },
          "execution_count": 75,
          "metadata": {},
          "output_type": "execute_result"
        }
      ],
      "source": [
        "model_1.evaluate(X_test, y_test)\n",
        "\n",
        "# 80% accuracy"
      ]
    },
    {
      "cell_type": "code",
      "execution_count": 76,
      "metadata": {
        "colab": {
          "base_uri": "https://localhost:8080/"
        },
        "id": "_yZUBrFDo9-F",
        "outputId": "7fbafa7a-f129-41d5-f4e9-3d577cb05fca"
      },
      "outputs": [
        {
          "data": {
            "text/plain": [
              "(array([[0.33782023, 0.25485337, 0.40732646],\n",
              "        [0.3348053 , 0.20895377, 0.45624092],\n",
              "        [0.3371875 , 0.23546326, 0.42734918],\n",
              "        [0.34171987, 0.2352618 , 0.42301837],\n",
              "        [0.33352444, 0.19979109, 0.46668455],\n",
              "        [0.3611275 , 0.2874188 , 0.3514537 ],\n",
              "        [0.35950062, 0.29730332, 0.34319615],\n",
              "        [0.36273342, 0.2928134 , 0.34445316],\n",
              "        [0.35768294, 0.2912279 , 0.35108915],\n",
              "        [0.35725126, 0.29593992, 0.34680882],\n",
              "        [0.3324969 , 0.19350946, 0.4739936 ],\n",
              "        [0.3368499 , 0.23003994, 0.4331101 ],\n",
              "        [0.33568686, 0.21660079, 0.4477123 ],\n",
              "        [0.3615973 , 0.28513807, 0.3532647 ],\n",
              "        [0.35988796, 0.283419  , 0.3566931 ]], dtype=float32),\n",
              " array([2, 2, 2, 2, 2, 0, 0, 0, 0, 0, 2, 2, 2, 0, 0]),\n",
              " array([1, 2, 1, 1, 2, 0, 0, 0, 0, 0, 2, 2, 2, 0, 0]),\n",
              " 15)"
            ]
          },
          "execution_count": 76,
          "metadata": {},
          "output_type": "execute_result"
        }
      ],
      "source": [
        "y_pred = model_1.predict(X_test)\n",
        "\n",
        "y_pred, y_pred.argmax(axis=-1), y_test.argmax(axis=-1), len(y_pred)\n",
        "\n",
        "# 13 of 15 correct, ie 87% accuracy\n",
        "# array([2, 2, 2, 2, 2, 0, 0, 0, 0, 0, 2, 2, 2, 0, 0]),\n",
        "# array([1, 2, 1, 1, 2, 0, 0, 0, 0, 0, 2, 2, 2, 0, 0]),\n"
      ]
    },
    {
      "cell_type": "code",
      "execution_count": 77,
      "metadata": {
        "colab": {
          "base_uri": "https://localhost:8080/"
        },
        "id": "aJflmiq4xu-S",
        "outputId": "89d1ffc7-1df4-4a5e-ed45-9dd978a39b34"
      },
      "outputs": [
        {
          "name": "stdout",
          "output_type": "stream",
          "text": [
            "Epoch 1/100\n",
            "4/4 - 1s - loss: 1.0286 - accuracy: 0.5417 - val_loss: 0.9360 - val_accuracy: 0.5333\n",
            "Epoch 2/100\n",
            "4/4 - 0s - loss: 0.8087 - accuracy: 0.6583 - val_loss: 0.7576 - val_accuracy: 0.6000\n",
            "Epoch 3/100\n",
            "4/4 - 0s - loss: 0.6229 - accuracy: 0.6583 - val_loss: 0.5762 - val_accuracy: 0.6000\n",
            "Epoch 4/100\n",
            "4/4 - 0s - loss: 0.4784 - accuracy: 0.6917 - val_loss: 0.4573 - val_accuracy: 0.8667\n",
            "Epoch 5/100\n",
            "4/4 - 0s - loss: 0.4173 - accuracy: 0.8333 - val_loss: 0.3865 - val_accuracy: 0.8667\n",
            "Epoch 6/100\n",
            "4/4 - 0s - loss: 0.3470 - accuracy: 0.8583 - val_loss: 0.3366 - val_accuracy: 0.8667\n",
            "Epoch 7/100\n",
            "4/4 - 0s - loss: 0.2990 - accuracy: 0.9000 - val_loss: 0.2559 - val_accuracy: 0.8667\n",
            "Epoch 8/100\n",
            "4/4 - 0s - loss: 0.2598 - accuracy: 0.9000 - val_loss: 0.3066 - val_accuracy: 0.8667\n",
            "Epoch 9/100\n",
            "4/4 - 0s - loss: 0.2199 - accuracy: 0.9167 - val_loss: 0.1955 - val_accuracy: 0.9333\n",
            "Epoch 10/100\n",
            "4/4 - 0s - loss: 0.1706 - accuracy: 0.9500 - val_loss: 0.2806 - val_accuracy: 0.8667\n",
            "Epoch 11/100\n",
            "4/4 - 0s - loss: 0.1816 - accuracy: 0.9167 - val_loss: 0.2318 - val_accuracy: 0.8667\n",
            "Epoch 12/100\n",
            "4/4 - 0s - loss: 0.1508 - accuracy: 0.9500 - val_loss: 0.2343 - val_accuracy: 0.8667\n",
            "Epoch 13/100\n",
            "4/4 - 0s - loss: 0.1313 - accuracy: 0.9500 - val_loss: 0.1614 - val_accuracy: 0.8667\n",
            "Epoch 14/100\n",
            "4/4 - 0s - loss: 0.1143 - accuracy: 0.9583 - val_loss: 0.2367 - val_accuracy: 0.8667\n",
            "Epoch 15/100\n",
            "4/4 - 0s - loss: 0.1094 - accuracy: 0.9667 - val_loss: 0.1000 - val_accuracy: 1.0000\n",
            "Epoch 16/100\n",
            "4/4 - 0s - loss: 0.0862 - accuracy: 0.9667 - val_loss: 0.3897 - val_accuracy: 0.8667\n",
            "Epoch 17/100\n",
            "4/4 - 0s - loss: 0.1331 - accuracy: 0.9333 - val_loss: 0.1020 - val_accuracy: 1.0000\n",
            "Epoch 18/100\n",
            "4/4 - 0s - loss: 0.0995 - accuracy: 0.9500 - val_loss: 0.2917 - val_accuracy: 0.8667\n",
            "Epoch 19/100\n",
            "4/4 - 0s - loss: 0.0981 - accuracy: 0.9500 - val_loss: 0.1192 - val_accuracy: 0.8667\n",
            "Epoch 20/100\n",
            "4/4 - 0s - loss: 0.0747 - accuracy: 0.9667 - val_loss: 0.2021 - val_accuracy: 0.8667\n",
            "Epoch 21/100\n",
            "4/4 - 0s - loss: 0.0812 - accuracy: 0.9750 - val_loss: 0.1658 - val_accuracy: 0.8667\n",
            "Epoch 22/100\n",
            "4/4 - 0s - loss: 0.0724 - accuracy: 0.9583 - val_loss: 0.1146 - val_accuracy: 0.8667\n",
            "Epoch 23/100\n",
            "4/4 - 0s - loss: 0.0652 - accuracy: 0.9667 - val_loss: 0.1968 - val_accuracy: 0.8667\n",
            "Epoch 24/100\n",
            "4/4 - 0s - loss: 0.0729 - accuracy: 0.9750 - val_loss: 0.1254 - val_accuracy: 0.8667\n",
            "Epoch 25/100\n",
            "4/4 - 0s - loss: 0.0828 - accuracy: 0.9583 - val_loss: 0.1428 - val_accuracy: 0.8667\n",
            "Epoch 26/100\n",
            "4/4 - 0s - loss: 0.0673 - accuracy: 0.9750 - val_loss: 0.1342 - val_accuracy: 0.8667\n",
            "Epoch 27/100\n",
            "4/4 - 0s - loss: 0.0623 - accuracy: 0.9667 - val_loss: 0.1342 - val_accuracy: 0.8667\n",
            "Epoch 28/100\n",
            "4/4 - 0s - loss: 0.0641 - accuracy: 0.9750 - val_loss: 0.1920 - val_accuracy: 0.8667\n",
            "Epoch 29/100\n",
            "4/4 - 0s - loss: 0.0629 - accuracy: 0.9750 - val_loss: 0.1079 - val_accuracy: 0.9333\n",
            "Epoch 30/100\n",
            "4/4 - 0s - loss: 0.0642 - accuracy: 0.9917 - val_loss: 0.1718 - val_accuracy: 0.8667\n",
            "Epoch 31/100\n",
            "4/4 - 0s - loss: 0.0914 - accuracy: 0.9583 - val_loss: 0.1436 - val_accuracy: 0.8667\n",
            "Epoch 32/100\n",
            "4/4 - 0s - loss: 0.0608 - accuracy: 0.9833 - val_loss: 0.0876 - val_accuracy: 1.0000\n",
            "Epoch 33/100\n",
            "4/4 - 0s - loss: 0.0639 - accuracy: 0.9667 - val_loss: 0.2396 - val_accuracy: 0.8667\n",
            "Epoch 34/100\n",
            "4/4 - 0s - loss: 0.0654 - accuracy: 0.9750 - val_loss: 0.0636 - val_accuracy: 1.0000\n",
            "Epoch 35/100\n",
            "4/4 - 0s - loss: 0.0709 - accuracy: 0.9583 - val_loss: 0.3314 - val_accuracy: 0.8667\n",
            "Epoch 36/100\n",
            "4/4 - 0s - loss: 0.0958 - accuracy: 0.9750 - val_loss: 0.1163 - val_accuracy: 0.8667\n",
            "Epoch 37/100\n",
            "4/4 - 0s - loss: 0.0529 - accuracy: 0.9833 - val_loss: 0.0759 - val_accuracy: 1.0000\n",
            "Epoch 38/100\n",
            "4/4 - 0s - loss: 0.0580 - accuracy: 0.9833 - val_loss: 0.1704 - val_accuracy: 0.8667\n",
            "Epoch 39/100\n",
            "4/4 - 0s - loss: 0.0588 - accuracy: 0.9750 - val_loss: 0.2202 - val_accuracy: 0.8667\n",
            "Epoch 40/100\n",
            "4/4 - 0s - loss: 0.0498 - accuracy: 0.9833 - val_loss: 0.0602 - val_accuracy: 1.0000\n",
            "Epoch 41/100\n",
            "4/4 - 0s - loss: 0.0633 - accuracy: 0.9667 - val_loss: 0.2831 - val_accuracy: 0.8667\n",
            "Epoch 42/100\n",
            "4/4 - 0s - loss: 0.0631 - accuracy: 0.9750 - val_loss: 0.0979 - val_accuracy: 0.9333\n",
            "Epoch 43/100\n",
            "4/4 - 0s - loss: 0.0573 - accuracy: 0.9833 - val_loss: 0.1399 - val_accuracy: 0.8667\n",
            "Epoch 44/100\n",
            "4/4 - 0s - loss: 0.0507 - accuracy: 0.9750 - val_loss: 0.1368 - val_accuracy: 0.8667\n",
            "Epoch 45/100\n",
            "4/4 - 0s - loss: 0.0527 - accuracy: 0.9833 - val_loss: 0.1547 - val_accuracy: 0.8667\n",
            "Epoch 46/100\n",
            "4/4 - 0s - loss: 0.0563 - accuracy: 0.9667 - val_loss: 0.2496 - val_accuracy: 0.8667\n",
            "Epoch 47/100\n",
            "4/4 - 0s - loss: 0.0631 - accuracy: 0.9667 - val_loss: 0.1127 - val_accuracy: 0.9333\n",
            "Epoch 48/100\n",
            "4/4 - 0s - loss: 0.0547 - accuracy: 0.9750 - val_loss: 0.1210 - val_accuracy: 0.8667\n",
            "Epoch 49/100\n",
            "4/4 - 0s - loss: 0.0539 - accuracy: 0.9833 - val_loss: 0.1202 - val_accuracy: 0.8667\n",
            "Epoch 50/100\n",
            "4/4 - 0s - loss: 0.0420 - accuracy: 0.9750 - val_loss: 0.1450 - val_accuracy: 0.8667\n",
            "Epoch 51/100\n",
            "4/4 - 0s - loss: 0.0449 - accuracy: 0.9833 - val_loss: 0.1831 - val_accuracy: 0.8667\n",
            "Epoch 52/100\n",
            "4/4 - 0s - loss: 0.0448 - accuracy: 0.9833 - val_loss: 0.0567 - val_accuracy: 1.0000\n",
            "Epoch 53/100\n",
            "4/4 - 0s - loss: 0.0492 - accuracy: 0.9833 - val_loss: 0.2657 - val_accuracy: 0.8667\n",
            "Epoch 54/100\n",
            "4/4 - 0s - loss: 0.0621 - accuracy: 0.9833 - val_loss: 0.0742 - val_accuracy: 1.0000\n",
            "Epoch 55/100\n",
            "4/4 - 0s - loss: 0.0442 - accuracy: 0.9833 - val_loss: 0.1895 - val_accuracy: 0.8667\n",
            "Epoch 56/100\n",
            "4/4 - 0s - loss: 0.0512 - accuracy: 0.9833 - val_loss: 0.0775 - val_accuracy: 1.0000\n",
            "Epoch 57/100\n",
            "4/4 - 0s - loss: 0.0472 - accuracy: 0.9833 - val_loss: 0.1577 - val_accuracy: 0.8667\n",
            "Epoch 58/100\n",
            "4/4 - 0s - loss: 0.0363 - accuracy: 0.9917 - val_loss: 0.1077 - val_accuracy: 0.9333\n",
            "Epoch 59/100\n",
            "4/4 - 0s - loss: 0.0503 - accuracy: 0.9750 - val_loss: 0.2003 - val_accuracy: 0.8667\n",
            "Epoch 60/100\n",
            "4/4 - 0s - loss: 0.0465 - accuracy: 0.9917 - val_loss: 0.1056 - val_accuracy: 0.9333\n",
            "Epoch 61/100\n",
            "4/4 - 0s - loss: 0.0619 - accuracy: 0.9833 - val_loss: 0.1920 - val_accuracy: 0.8667\n",
            "Epoch 62/100\n",
            "4/4 - 0s - loss: 0.0727 - accuracy: 0.9750 - val_loss: 0.1283 - val_accuracy: 0.9333\n",
            "Epoch 63/100\n",
            "4/4 - 0s - loss: 0.1273 - accuracy: 0.9500 - val_loss: 0.1172 - val_accuracy: 0.9333\n",
            "Epoch 64/100\n",
            "4/4 - 0s - loss: 0.1122 - accuracy: 0.9500 - val_loss: 0.3709 - val_accuracy: 0.8667\n",
            "Epoch 65/100\n",
            "4/4 - 0s - loss: 0.0666 - accuracy: 0.9833 - val_loss: 0.0525 - val_accuracy: 1.0000\n",
            "Epoch 66/100\n",
            "4/4 - 0s - loss: 0.0527 - accuracy: 0.9917 - val_loss: 0.1551 - val_accuracy: 0.8667\n",
            "Epoch 67/100\n",
            "4/4 - 0s - loss: 0.0418 - accuracy: 0.9750 - val_loss: 0.2070 - val_accuracy: 0.8667\n",
            "Epoch 68/100\n",
            "4/4 - 0s - loss: 0.0444 - accuracy: 0.9833 - val_loss: 0.0801 - val_accuracy: 1.0000\n",
            "Epoch 69/100\n",
            "4/4 - 0s - loss: 0.0717 - accuracy: 0.9750 - val_loss: 0.1197 - val_accuracy: 0.8667\n",
            "Epoch 70/100\n",
            "4/4 - 0s - loss: 0.0424 - accuracy: 0.9917 - val_loss: 0.3029 - val_accuracy: 0.8667\n",
            "Epoch 71/100\n",
            "4/4 - 0s - loss: 0.0687 - accuracy: 0.9750 - val_loss: 0.1111 - val_accuracy: 0.9333\n",
            "Epoch 72/100\n",
            "4/4 - 0s - loss: 0.0438 - accuracy: 0.9750 - val_loss: 0.0526 - val_accuracy: 1.0000\n",
            "Epoch 73/100\n",
            "4/4 - 0s - loss: 0.0587 - accuracy: 0.9750 - val_loss: 0.2010 - val_accuracy: 0.8667\n",
            "Epoch 74/100\n",
            "4/4 - 0s - loss: 0.0596 - accuracy: 0.9833 - val_loss: 0.2064 - val_accuracy: 0.8667\n",
            "Epoch 75/100\n",
            "4/4 - 0s - loss: 0.0358 - accuracy: 0.9833 - val_loss: 0.0627 - val_accuracy: 1.0000\n",
            "Epoch 76/100\n",
            "4/4 - 0s - loss: 0.0524 - accuracy: 0.9833 - val_loss: 0.1263 - val_accuracy: 0.9333\n",
            "Epoch 77/100\n",
            "4/4 - 0s - loss: 0.0469 - accuracy: 0.9833 - val_loss: 0.2166 - val_accuracy: 0.8667\n",
            "Epoch 78/100\n",
            "4/4 - 0s - loss: 0.0469 - accuracy: 0.9833 - val_loss: 0.0816 - val_accuracy: 1.0000\n",
            "Epoch 79/100\n",
            "4/4 - 0s - loss: 0.0433 - accuracy: 0.9833 - val_loss: 0.1059 - val_accuracy: 0.9333\n",
            "Epoch 80/100\n",
            "4/4 - 0s - loss: 0.0452 - accuracy: 0.9833 - val_loss: 0.2359 - val_accuracy: 0.8667\n",
            "Epoch 81/100\n",
            "4/4 - 0s - loss: 0.0379 - accuracy: 0.9917 - val_loss: 0.0927 - val_accuracy: 1.0000\n",
            "Epoch 82/100\n",
            "4/4 - 0s - loss: 0.0469 - accuracy: 0.9750 - val_loss: 0.1666 - val_accuracy: 0.8667\n",
            "Epoch 83/100\n",
            "4/4 - 0s - loss: 0.0462 - accuracy: 0.9750 - val_loss: 0.1651 - val_accuracy: 0.8667\n",
            "Epoch 84/100\n",
            "4/4 - 0s - loss: 0.0333 - accuracy: 0.9833 - val_loss: 0.1165 - val_accuracy: 0.9333\n",
            "Epoch 85/100\n",
            "4/4 - 0s - loss: 0.0442 - accuracy: 0.9833 - val_loss: 0.1089 - val_accuracy: 0.9333\n",
            "Epoch 86/100\n",
            "4/4 - 0s - loss: 0.0348 - accuracy: 0.9833 - val_loss: 0.2093 - val_accuracy: 0.8667\n",
            "Epoch 87/100\n",
            "4/4 - 0s - loss: 0.0670 - accuracy: 0.9750 - val_loss: 0.1795 - val_accuracy: 0.8667\n",
            "Epoch 88/100\n",
            "4/4 - 0s - loss: 0.0785 - accuracy: 0.9667 - val_loss: 0.1091 - val_accuracy: 0.9333\n",
            "Epoch 89/100\n",
            "4/4 - 0s - loss: 0.0916 - accuracy: 0.9667 - val_loss: 0.3314 - val_accuracy: 0.8667\n",
            "Epoch 90/100\n",
            "4/4 - 0s - loss: 0.0459 - accuracy: 0.9833 - val_loss: 0.0508 - val_accuracy: 1.0000\n",
            "Epoch 91/100\n",
            "4/4 - 0s - loss: 0.0483 - accuracy: 0.9833 - val_loss: 0.1072 - val_accuracy: 0.9333\n",
            "Epoch 92/100\n",
            "4/4 - 0s - loss: 0.0413 - accuracy: 0.9917 - val_loss: 0.2846 - val_accuracy: 0.8667\n",
            "Epoch 93/100\n",
            "4/4 - 0s - loss: 0.0542 - accuracy: 0.9833 - val_loss: 0.1454 - val_accuracy: 0.8667\n",
            "Epoch 94/100\n",
            "4/4 - 0s - loss: 0.0399 - accuracy: 0.9833 - val_loss: 0.0546 - val_accuracy: 1.0000\n",
            "Epoch 95/100\n",
            "4/4 - 0s - loss: 0.0480 - accuracy: 0.9750 - val_loss: 0.2981 - val_accuracy: 0.8667\n",
            "Epoch 96/100\n",
            "4/4 - 0s - loss: 0.0743 - accuracy: 0.9750 - val_loss: 0.2134 - val_accuracy: 0.8667\n",
            "Epoch 97/100\n",
            "4/4 - 0s - loss: 0.0498 - accuracy: 0.9833 - val_loss: 0.0661 - val_accuracy: 1.0000\n",
            "Epoch 98/100\n",
            "4/4 - 0s - loss: 0.0504 - accuracy: 0.9833 - val_loss: 0.2466 - val_accuracy: 0.8667\n",
            "Epoch 99/100\n",
            "4/4 - 0s - loss: 0.0562 - accuracy: 0.9917 - val_loss: 0.1450 - val_accuracy: 0.8667\n",
            "Epoch 100/100\n",
            "4/4 - 0s - loss: 0.0342 - accuracy: 0.9917 - val_loss: 0.0513 - val_accuracy: 1.0000\n"
          ]
        }
      ],
      "source": [
        "# create model\n",
        "# model from: https://www.kaggle.com/venkatkrishnan/iris-data-tensorflow-neural-network \n",
        "\n",
        "tf.random.set_seed(42)\n",
        "\n",
        "\n",
        "model_2 = keras.Sequential([                   \n",
        "        keras.layers.Dense(1000, activation='relu'),\n",
        "        keras.layers.Dense(500, activation='relu',),\n",
        "        keras.layers.Dense(300, activation='relu'),\n",
        "        keras.layers.Dropout(0.2),\n",
        "        keras.layers.Dense(3, activation='softmax')\n",
        "])\n",
        "\n",
        "\n",
        "model_2.compile(loss='categorical_crossentropy', optimizer=keras.optimizers.Adam(learning_rate=0.001), metrics='accuracy')\n",
        "\n",
        "\n",
        "history_model_2 = model_2.fit(\n",
        "    X_train,\n",
        "    y_train,\n",
        "    validation_data=(X_val, y_val),\n",
        "    epochs=100,\n",
        "    verbose=2\n",
        ")"
      ]
    },
    {
      "cell_type": "code",
      "execution_count": 78,
      "metadata": {
        "colab": {
          "base_uri": "https://localhost:8080/",
          "height": 459
        },
        "id": "dkWJ2PpwyIpr",
        "outputId": "a716d5d6-beac-44f9-fbf0-9a4781378fd4"
      },
      "outputs": [
        {
          "data": {
            "text/plain": [
              "Text(0.5, 0, 'epochs')"
            ]
          },
          "execution_count": 78,
          "metadata": {},
          "output_type": "execute_result"
        },
        {
          "data": {
            "image/png": "[encoded data removed]",
            "text/plain": [
              "<Figure size 720x504 with 1 Axes>"
            ]
          },
          "metadata": {
            "needs_background": "light"
          },
          "output_type": "display_data"
        }
      ],
      "source": [
        "# plot loss curve\n",
        "\n",
        "pd.DataFrame(history_model_2.history).plot(figsize=(10,7))\n",
        "plt.xlabel('epochs')\n"
      ]
    },
    {
      "cell_type": "code",
      "execution_count": 79,
      "metadata": {
        "colab": {
          "base_uri": "https://localhost:8080/"
        },
        "id": "NwoyrRJ2yIp1",
        "outputId": "d7726b99-293d-4f92-e87c-95c5e821e1d2"
      },
      "outputs": [
        {
          "name": "stdout",
          "output_type": "stream",
          "text": [
            "1/1 [==============================] - 0s 19ms/step - loss: 0.0065 - accuracy: 1.0000\n"
          ]
        },
        {
          "data": {
            "text/plain": [
              "[0.006522926036268473, 1.0]"
            ]
          },
          "execution_count": 79,
          "metadata": {},
          "output_type": "execute_result"
        }
      ],
      "source": [
        "model_2.evaluate(X_test, y_test)\n",
        "\n",
        "# accuracy: 1 (!)"
      ]
    },
    {
      "cell_type": "code",
      "execution_count": 80,
      "metadata": {
        "colab": {
          "base_uri": "https://localhost:8080/"
        },
        "id": "9bIhJj-zyIp1",
        "outputId": "277c6cfa-9816-4cc6-a3ac-6489a2f34a49"
      },
      "outputs": [
        {
          "data": {
            "text/plain": [
              "(array([[4.2508068e-04, 9.9907982e-01, 4.9514830e-04],\n",
              "        [9.2331913e-07, 2.6986729e-02, 9.7301233e-01],\n",
              "        [1.9805701e-04, 9.9838090e-01, 1.4210396e-03],\n",
              "        [1.2419214e-04, 9.9977428e-01, 1.0157750e-04],\n",
              "        [1.0538811e-08, 1.0969306e-03, 9.9890304e-01],\n",
              "        [9.9998975e-01, 1.0300629e-05, 8.1608148e-14],\n",
              "        [9.9999928e-01, 6.6712846e-07, 1.6122978e-15],\n",
              "        [9.9999869e-01, 1.3078635e-06, 4.7586578e-15],\n",
              "        [9.9999738e-01, 2.5883121e-06, 6.8211360e-15],\n",
              "        [9.9999964e-01, 3.4889950e-07, 3.6760155e-16],\n",
              "        [1.7021289e-08, 1.1697870e-03, 9.9883014e-01],\n",
              "        [1.2684092e-06, 1.2359240e-02, 9.8763949e-01],\n",
              "        [4.7142662e-06, 5.1612910e-02, 9.4838238e-01],\n",
              "        [9.9999976e-01, 2.6279616e-07, 1.3811879e-16],\n",
              "        [1.0000000e+00, 5.9300739e-08, 7.0543079e-18]], dtype=float32),\n",
              " array([1, 2, 1, 1, 2, 0, 0, 0, 0, 0, 2, 2, 2, 0, 0]),\n",
              " array([1, 2, 1, 1, 2, 0, 0, 0, 0, 0, 2, 2, 2, 0, 0]),\n",
              " 15)"
            ]
          },
          "execution_count": 80,
          "metadata": {},
          "output_type": "execute_result"
        }
      ],
      "source": [
        "y_pred = model_2.predict(X_test)\n",
        "\n",
        "y_pred, y_pred.argmax(axis=-1), y_test.argmax(axis=-1), len(y_pred)\n",
        "\n",
        "# 15 out of 15 right!\n",
        "# array([1, 2, 1, 1, 2, 0, 0, 0, 0, 0, 2, 2, 2, 0, 0]),\n",
        "# array([1, 2, 1, 1, 2, 0, 0, 0, 0, 0, 2, 2, 2, 0, 0]),\n"
      ]
    },
    {
      "cell_type": "markdown",
      "metadata": {
        "id": "2K4VjijDkV8W"
      },
      "source": [
        "Note the difference in model architecture: \n",
        "- In model_1 I used two hidden layers, a few units per hidden layer and results were good qith over 80% y_pred accuracy.\n",
        "- Then I found a user's [approach](https://www.kaggle.com/venkatkrishnan/iris-data-tensorflow-neural-network) to the multiclass classification model with more layers, many more hidden units (neurons), a Dropout layer and 100 epochs.\n",
        "- Their model yielded even better results - 100% y_pred accuracy."
      ]
    },
    {
      "cell_type": "code",
      "execution_count": 80,
      "metadata": {
        "id": "XPsa4g7Kpqn7"
      },
      "outputs": [],
      "source": []
    }
  ],
  "metadata": {
    "colab": {
      "name": "flowers_model.ipynb",
      "provenance": []
    },
    "kernelspec": {
      "display_name": "Python 3",
      "name": "python3"
    },
    "language_info": {
      "name": "python"
    }
  },
  "nbformat": 4,
  "nbformat_minor": 0
}
